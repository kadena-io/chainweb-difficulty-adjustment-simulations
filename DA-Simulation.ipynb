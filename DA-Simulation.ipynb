{
 "cells": [
  {
   "cell_type": "code",
   "execution_count": 111,
   "metadata": {},
   "outputs": [],
   "source": [
    "import sys\n",
    "# !{sys.executable} -m pip install python-igraph simpy numpy scipy matplotlib\n",
    "# !{sys.executable} -m pip install cpython\n",
    "# !{sys.executable} -m pip install runstats\n",
    "# !{sys.executable} -m pip install pandas"
   ]
  },
  {
   "cell_type": "code",
   "execution_count": 102,
   "metadata": {},
   "outputs": [],
   "source": [
    "import igraph\n",
    "import math\n",
    "import matplotlib.pyplot as plt\n",
    "import numpy as np\n",
    "from numpy.random import default_rng, RandomState\n",
    "import pandas as pd\n",
    "from scipy import stats\n",
    "from simpy import *\n",
    "from simpy.events import AnyOf, AllOf, Event\n",
    "from simpy.resources.store import *"
   ]
  },
  {
   "cell_type": "markdown",
   "metadata": {},
   "source": [
    "# Preliminaries"
   ]
  },
  {
   "cell_type": "markdown",
   "metadata": {},
   "source": [
    "## Graphs\n",
    "\n",
    "Chainweb graphs are undirected and regular graphs that are choosen to have low degree and low diameter. \n",
    "\n",
    "Each vertex of a Chainweb graph represents a chain and edges designate the dependencies between blocks on different chains. A block on chain $c$ at height $h$ has to reference each block of height $h-1$ on all chains that are adjacent to $c$. In addition a block at height $h$ also depends on the block at height $h-1$ on the same chain. We also say that a chain $c$ depends on a chan $d$ if $c$ is adjacent to $d$.\n",
    "\n",
    "Since Chainweb graphs are undirected, dependencies between chains are symmetric. Thus, In the following we encode dependencies using directed, symmetric directed graphs. We also make them reflexiv, by making each vertex adjacent to itself, because each each block depends on its parent on the same chain."
   ]
  },
  {
   "cell_type": "markdown",
   "metadata": {},
   "source": [
    "The $\\text{Peterson}$ graph is of minimal order (number of vertices) for degree 3 and diameter 2. "
   ]
  },
  {
   "cell_type": "code",
   "execution_count": 5,
   "metadata": {},
   "outputs": [],
   "source": [
    "def peterson():\n",
    "    graph = igraph.Graph(directed=True)\n",
    "    graph.add_vertices(10)\n",
    "    graph.add_edges(\n",
    "        [ (0, 0), (0, 2), (0, 3), (0, 5)\n",
    "        , (1, 1), (1, 3), (1, 4), (1, 6)\n",
    "        , (2, 2), (2, 0), (2, 4), (2, 7)\n",
    "        , (3, 3), (3, 0), (3, 1), (3, 8)\n",
    "        , (4, 4), (4, 1), (4, 2), (4, 9)\n",
    "        , (5, 5), (5, 0), (5, 6), (5, 9)\n",
    "        , (6, 6), (6, 1), (6, 5), (6, 7)\n",
    "        , (7, 7), (7, 2), (7, 6), (7, 8)\n",
    "        , (8, 8), (8, 3), (8, 7), (8, 9)\n",
    "        , (9, 9), (9, 4), (9, 5), (9, 8)\n",
    "        ]\n",
    "    )\n",
    "    return(graph)\n",
    "\n",
    "Peterson = peterson()"
   ]
  },
  {
   "cell_type": "markdown",
   "metadata": {},
   "source": [
    "The $\\text{Twenty}$ chain graph is of minimal order for degree 3 and diameter 3."
   ]
  },
  {
   "cell_type": "code",
   "execution_count": 6,
   "metadata": {},
   "outputs": [],
   "source": [
    "\n",
    "def twenty():\n",
    "    graph = igraph.Graph(directed=True)\n",
    "    graph.add_vertices(20)\n",
    "    graph.add_edges(\n",
    "        [ (0, 0), (0, 10), (0,15), (0,5)\n",
    "        , (1, 1), (1, 11), (1,16), (1,6)\n",
    "        , (2, 2), (2, 12), (2,17), (2,7)\n",
    "        , (3, 3), (3, 13), (3,18), (3,8)\n",
    "        , (4, 4), (4, 14), (4,19), (4,9)\n",
    "        , (5, 5), (5, 0), (5,7), (5,8)\n",
    "        , (6, 6), (6, 1), (6,8), (6,9)\n",
    "        , (7, 7), (7, 2), (7,5), (7,9)\n",
    "        , (8, 8), (8, 3), (8,5), (8,6)\n",
    "        , (9, 9), (9, 4), (9,6), (9,7)\n",
    "        , (10, 10), (10, 0), (10,11), (10,19)\n",
    "        , (11, 11), (11, 1), (11,10), (11,12)\n",
    "        , (12, 12), (12, 11), (12,13), (12,2)\n",
    "        , (13, 13), (13, 12), (13,14), (13,3)\n",
    "        , (14, 14), (14, 13), (14,15), (14,4)\n",
    "        , (15, 15), (15, 0), (15,14), (15,16)\n",
    "        , (16, 16), (16, 1), (16,15), (16,17)\n",
    "        , (17, 17), (17, 16), (17,18), (17,2)\n",
    "        , (18, 18), (18, 17), (18,19), (18,3)\n",
    "        , (19, 19), (19, 10), (19,18), (19,4)\n",
    "        ]\n",
    "    )\n",
    "    return (graph)\n",
    "\n",
    "Twenty = twenty()"
   ]
  },
  {
   "cell_type": "markdown",
   "metadata": {},
   "source": [
    "## Histogram\n",
    "\n",
    "Quick and Dirty Linear Histograms."
   ]
  },
  {
   "cell_type": "code",
   "execution_count": 7,
   "metadata": {},
   "outputs": [],
   "source": [
    "# TODO: there are probably some good libraries with support for this\n",
    "#\n",
    "class Histogram:\n",
    "\n",
    "    def __init__(self, binSize):\n",
    "        self.bins = {}\n",
    "        self.binSize = binSize\n",
    "\n",
    "    def sample(self, x):\n",
    "        i = math.floor(x / self.binSize)\n",
    "        if i in self.bins:\n",
    "            self.bins[i] += 1\n",
    "        else:\n",
    "            self.bins[i] = 1\n",
    "\n",
    "    def append(self, h):\n",
    "        if h.binSize == self.binSize:\n",
    "            for i in h.bins:\n",
    "                if i in self.bins:\n",
    "                    self.bins[i] += h.bins[i]\n",
    "                else:\n",
    "                    self.bins[i] = h.bins[i]\n",
    "        else:\n",
    "            throw(\"merging histograms with different bin sizes isn't yet implemented\")\n",
    "\n",
    "    def result(self):\n",
    "        imin = min(self.bins.keys())\n",
    "        imax = max(self.bins.keys())\n",
    "        a = [0] * (imax - imin + 1)\n",
    "        b = [self.binSize * k for k in range(imin, imax + 1)]\n",
    "        for i in range(imin, imax + 1):\n",
    "            if i in self.bins:\n",
    "                a[i - imin] = self.bins[i]\n",
    "        return a, b\n",
    "\n",
    "# TODO: implement more general WithStatistics class\n",
    "class HistogramSample:\n",
    "    def __init__(self, histogram, clock):\n",
    "        self.histogram = histogram\n",
    "        self.clock = clock\n",
    "    def __enter__(self):\n",
    "        self.start = self.clock.now\n",
    "        return self.start\n",
    "    def __exit__(self, type, value, traceback):\n",
    "        self.histogram.sample(self.clock.now - self.start)\n",
    "        return None # rethrow"
   ]
  },
  {
   "cell_type": "markdown",
   "metadata": {},
   "source": [
    "# Simulation Model\n",
    "\n",
    "The goal of the simulation is to investigate the interaction of dependencies between chains and difficulty adjustement in the computation of a single chain. \n",
    "\n",
    "Block production (*mining*) on each chain is exponentially distributed.\n",
    "The mean mining time is called the $\\text{target}$. Mining on a chain can only proceed if all dependencies are available. I.e. a block on chain $c$ at height $h$ can be mined only after all blocks at height $h-1$ have been mined on $c$ and all chains adjacent to $c$. We say that a chain is *blocked* when it is done mining a block and while it is waiting for dependencies for the next block to become available. The overall *block time* is the time that it takes a chain to do a full cycle from starting to mine a block to starting to mine the next block, i.e. the time that mining takes, plus the time it is blocked, plus any potential additional latencies. \n",
    "\n",
    "POW blockchain algorithms are desigined such that the overall block time resembles an exponential distriution with a particular mean. The goal of *Difficulty Adjustment* is to adjust the target such that the observed mean matches the targeted mean. Single chain POW block chains can't be blocked and block times are exponentially distributed when the mining time dominates the other latencies. This can be achieved by choosing the a block time that is sufficiently large compared to network propgation and validation times. (For the purpose of this research, we are ignoring races that result in orphans.) In Chainweb chains can additionally be blocked and the distribution of the block time results from the the combination of the mining distribution, the distribution of times that chains are blocked, and the distribution of other latencies (network propagation and block validation).\n",
    "\n",
    "The model is designed to investigate how the choice of the difficulty adjustment algorithm affect the overall resulting block time distribution in Chainweb.\n",
    "\n",
    "We don't model consensus. Therefore the model doesn't include races between distributed nodes and orphan blocks. Because there are no conflicts only a single block for each chain and height is produced. Thus, blocks are uniquly identified by their chain and height. Also, each block is used exactly once by each adjacent chain. In other words a single linear chainweb is produced without any forks. \n",
    "\n",
    "Each vertex in the graph is labeled with a `Chain`, which is implemented as a `Process` that mines blocks on that chain. \n",
    "\n",
    "Dependencies between chain processes are implemented by passing messages with new blocks to adjacent chains. A chain can only produce a new block if all of its dependencies have been received. Each (directed) edge is assigned a communication channel. The source chain of an edge publishes new blocks to the channel. The target of the edge can receive a block ar specific height by awaiting that block on the channel."
   ]
  },
  {
   "cell_type": "markdown",
   "metadata": {},
   "source": [
    "## Configuration"
   ]
  },
  {
   "cell_type": "code",
   "execution_count": 8,
   "metadata": {},
   "outputs": [],
   "source": [
    "class Config:\n",
    "    # the argument is a Class, not an object!\n",
    "    def __init__(self, da):\n",
    "        self.DA = da\n",
    "    \n",
    "    # All durations are in seconds\n",
    "\n",
    "    # targeted mean block time\n",
    "    MEAN_BLOCK_TIME = 30\n",
    "\n",
    "    # number of blocks in an epoch\n",
    "    EPOCH = 120\n",
    "\n",
    "    # Median delay of pact new block call delay\n",
    "    PACT_VALIDATION_TIME = 0.01\n",
    "    PACT_NEW_BLOCK_TIME = PACT_VALIDATION_TIME\n",
    "\n",
    "    # The mean latency for propagating a block in the network\n",
    "    NETWORK_LATENCY = 0.5\n",
    "\n",
    "    # overall block latencies (validation + network + validation, including pact validation)\n",
    "    NUMBER_OF_MINING_NODES = 3\n",
    "    LOCAL_BLOCK_LATENCY = 2 * PACT_VALIDATION_TIME\n",
    "    REMOTE_BLOCK_LATENCY = 2 * PACT_VALIDATION_TIME + NETWORK_LATENCY\n",
    "    \n",
    "    GRAPH = Twenty\n",
    "\n",
    "    # Seed for the PRNG\n",
    "    RNG_SEED = 17\n",
    "    \n",
    "    # Difficulty Adjustement\n",
    "    BLOCK_TIME_CHOICE = 0.9 # how close to the solve time the block time is chosen (0,1)\n",
    "    \n",
    "    # Multiple Hash functions:\n",
    "    NUMBER_OF_HASH_FUNCTIONS = 1\n",
    "    MAX_TARGET_MULTIPLIER = 1"
   ]
  },
  {
   "cell_type": "markdown",
   "metadata": {},
   "source": [
    "### Durations\n",
    "\n",
    "We use the generic term $\\text{latency}$ to summarize the duration of the validation of a block after it is discovered and before it is published, the network latency, and the validation after it is received. In case a block is discovered on the same node the network latency and one validation step are omitted. This is modeled by using a Bernoulli distribution to estimate the chance that a block is mined locally and a reduced latency is used.\n",
    "\n",
    "Pact new block validation is modeled separately because, depending on the mining framework that is used, it is applied after a chain becomes unblocked."
   ]
  },
  {
   "cell_type": "code",
   "execution_count": 9,
   "metadata": {},
   "outputs": [],
   "source": [
    "def gamma5(prng, mean : float) -> float:\n",
    "    return prng.gamma(shape=5, scale=mean/5)\n",
    "\n",
    "# latency: validation + network + validation\n",
    "def latencyDelay(ctx) -> float:\n",
    "    is_local = ctx.prng.binomial(n=1, p = 1 / ctx.conf.NUMBER_OF_MINING_NODES)\n",
    "    if is_local:\n",
    "        return gamma5(ctx.prng, ctx.conf.LOCAL_BLOCK_LATENCY)\n",
    "    else:\n",
    "        return gamma5(ctx.prng, ctx.conf.REMOTE_BLOCK_LATENCY)\n",
    "\n",
    "# Pact new block\n",
    "def pactDelay(ctx) -> float:\n",
    "    return gamma5(ctx.prng, ctx.conf.PACT_NEW_BLOCK_TIME)\n",
    "\n",
    "# Mining is exponentialy distributed with the target being the mean\n",
    "def miningDelay(ctx, target : float) -> float:\n",
    "    return ctx.prng.exponential(target)"
   ]
  },
  {
   "cell_type": "markdown",
   "metadata": {},
   "source": [
    "## Blocks"
   ]
  },
  {
   "cell_type": "code",
   "execution_count": 10,
   "metadata": {},
   "outputs": [],
   "source": [
    "class Block:\n",
    "    def __init__(self, chainId, height, time, epochTime, target):\n",
    "        self.chainId = chainId\n",
    "        self.height = height\n",
    "        self.time = time\n",
    "\n",
    "        # For Da\n",
    "        self.epochTime = epochTime\n",
    "        self.target = target\n",
    "\n",
    "    def __lt__(self, other):\n",
    "        return self.height < other.height"
   ]
  },
  {
   "cell_type": "markdown",
   "metadata": {},
   "source": [
    "## Difficulty Adjustment Algorithms"
   ]
  },
  {
   "cell_type": "code",
   "execution_count": 11,
   "metadata": {},
   "outputs": [],
   "source": [
    "def avg(a : list[float]) -> float: \n",
    "    return sum(a) / len(a)\n",
    "\n",
    "# DA that does local adjustments based on a globally\n",
    "# synchronized epoch.\n",
    "#\n",
    "# This is what is currently implemented on mainnet.\n",
    "#\n",
    "class ChainDA:\n",
    "    def __init__(self, ctx):\n",
    "        self.ctx = ctx\n",
    "        self.env = self.ctx.env\n",
    "        self.conf = self.ctx.conf\n",
    "        \n",
    "    def isEpochStart(self, parent : Block) -> bool:\n",
    "        if parent == None:\n",
    "            return True\n",
    "        else:\n",
    "            return (parent.height + 1) % self.conf.EPOCH == 0\n",
    "\n",
    "    def run(self, parent : Block, parents : [Block]) -> (float, float):\n",
    "        return self.runChain(parent)\n",
    "    \n",
    "    def runChain(self, parent : Block):\n",
    "        if parent == None:\n",
    "            return self.env.now, self.conf.MEAN_BLOCK_TIME\n",
    "        if self.isEpochStart(parent):\n",
    "            epochTime = parent.time\n",
    "            target = parent.target * (self.conf.MEAN_BLOCK_TIME * self.conf.EPOCH) / (parent.time - parent.epochTime)\n",
    "        else:\n",
    "            epochTime = parent.epochTime\n",
    "            target = parent.target\n",
    "        return epochTime, target\n",
    "\n",
    "# DA that is based on globally synchronized epoch. It performs\n",
    "# chainDa and takes the average for the chain along with all it's\n",
    "# adjacent chains.\n",
    "#\n",
    "class AvgDA(ChainDA):\n",
    "    \n",
    "    def __init__(self, env): super().__init__(env)\n",
    "\n",
    "    def run(self, parent, parents):\n",
    "        if parent == None:\n",
    "            return self.runChain(parent)\n",
    "        if self.isEpochStart(parent):\n",
    "            ps = list(parents)\n",
    "            ps.append(parent)\n",
    "            epochTimes, targets = zip(*[self.runChain(p) for p in ps])\n",
    "            epochTime = avg(epochTimes)\n",
    "            target = avg(targets)\n",
    "        else:\n",
    "            epochTime = parent.epochTime\n",
    "            target = parent.target\n",
    "        return epochTime, target\n",
    "\n",
    "  \n",
    "# A DA algorithm that adjusts difficutly on a per chain basis\n",
    "# based on the solve time for that chain.\n",
    "#\n",
    "class LocalDA(ChainDA):\n",
    "    def __init__(self, env): super().__init__(env)\n",
    "\n",
    "    def run(self, parent, parents):\n",
    "        if parent == None:\n",
    "            return self.runChain(parent)\n",
    "        if self.isEpochStart(parent):\n",
    "            return self.runChain(parent)\n",
    "        else:\n",
    "            ps = list(parents)\n",
    "            ps.append(parent)\n",
    "            penalty = avg([p.time for p in ps]) - parent.time # approximation of wait time\n",
    "            epochTime = parent.epochTime + penalty\n",
    "            target = parent.target\n",
    "        return epochTime, target"
   ]
  },
  {
   "cell_type": "markdown",
   "metadata": {},
   "source": [
    "## Mining\n",
    "\n",
    "The target multiplier can be used to simulate a situation where different chains receive different\n",
    "amounts of hash power or use different hash algorithms."
   ]
  },
  {
   "cell_type": "code",
   "execution_count": 12,
   "metadata": {},
   "outputs": [],
   "source": [
    "def targetMultiplier(conf : Config, chainId : int) -> float:\n",
    "    n = conf.NUMBER_OF_HASH_FUNCTIONS\n",
    "    m = conf.MAX_TARGET_MULTIPLIER\n",
    "    return (1 + (chainId % n)) * (m / n)\n",
    "\n",
    "class Mine(Process):\n",
    "    def __init__(self, ctx, chainId, parent, parents):\n",
    "        \n",
    "        self.ctx = ctx\n",
    "        self.env = ctx.env\n",
    "        self.conf = ctx.conf\n",
    "        self.da = ctx.da\n",
    "\n",
    "        self.parent = parent\n",
    "        self.parents = parents\n",
    "        self.chainId = chainId\n",
    "        self.targetMultiplier = targetMultiplier(self.conf, chainId)\n",
    "\n",
    "        super().__init__(self.env, self.run())\n",
    "\n",
    "\n",
    "    def run(self):\n",
    "        # adjust difficulty\n",
    "        epochTime, target = self.da.run(self.parent, self.parents)\n",
    "        \n",
    "        height = 0 if self.parent == None else self.parent.height + 1\n",
    "\n",
    "        # mine\n",
    "        solveTime = miningDelay(self.ctx, target * self.targetMultiplier)\n",
    "        newTime = self.env.now + solveTime * self.conf.BLOCK_TIME_CHOICE # current miner behavior: 0\n",
    "        yield self.env.timeout(solveTime)\n",
    "\n",
    "        # create new block\n",
    "        block = Block(\n",
    "                chainId = self.chainId,\n",
    "                height = height,\n",
    "                time = newTime,\n",
    "                epochTime = epochTime,\n",
    "                target = target\n",
    "            )\n",
    "        return block"
   ]
  },
  {
   "cell_type": "markdown",
   "metadata": {},
   "source": [
    "## Chain"
   ]
  },
  {
   "cell_type": "code",
   "execution_count": 13,
   "metadata": {},
   "outputs": [],
   "source": [
    "class AwaitParents(Process):\n",
    "    def __init__(self, env, graph, block : Block):\n",
    "    \n",
    "        def run():\n",
    "            # No parents for the genesis block\n",
    "            if block == None: return []\n",
    "    \n",
    "            chainId = block.chainId\n",
    "            edges = graph.vs[chainId].in_edges()\n",
    "            f = lambda b: b.height == block.height\n",
    "            results = yield AllOf(env, [ FilterStoreGet(e[\"link\"], f) for e in edges ])\n",
    "            parents = list(results.values())\n",
    "            return parents\n",
    "    \n",
    "        super().__init__(env, run())"
   ]
  },
  {
   "cell_type": "code",
   "execution_count": 14,
   "metadata": {},
   "outputs": [],
   "source": [
    "# asynchronously publish block to each adjacent chain\n",
    "#\n",
    "# TODO should this an process or is it fine for it to be instantaneous?\n",
    "#\n",
    "class Publish:\n",
    "    def __init__(self, ctx, block):\n",
    "        self.ctx = ctx\n",
    "        self.conf = ctx.conf\n",
    "        self.env = ctx.env\n",
    "        self.graph = ctx.conf.GRAPH\n",
    "        self.block = block\n",
    "        self.chain = block.chainId\n",
    "        self.run()\n",
    "\n",
    "    def run(self):\n",
    "        for e in self.graph.vs[self.chain].out_edges():\n",
    "            self.env.process(self.publishToChain(e))\n",
    "        \n",
    "    def publishToChain(self,e):\n",
    "        yield self.env.timeout(latencyDelay(self.ctx))\n",
    "        yield StorePut(e[\"link\"], self.block)"
   ]
  },
  {
   "cell_type": "code",
   "execution_count": 15,
   "metadata": {},
   "outputs": [],
   "source": [
    "class Chain:\n",
    "    def __init__(self, ctx, chainId : int):\n",
    "\n",
    "        # Context\n",
    "        self.ctx = ctx\n",
    "        self.conf = ctx.conf\n",
    "        self.env = ctx.env\n",
    "        self.graph = ctx.graph\n",
    "        self.chain = chainId\n",
    "        self.da = ctx.da\n",
    "\n",
    "        # State\n",
    "        self.currentBlock = None\n",
    "\n",
    "        # Monitors and Statistics\n",
    "        self.isBlocked = False        \n",
    "        self.cycleTimes = []\n",
    "        self.blockedTimes = []\n",
    "        self.newBlockTimes = []\n",
    "        self.mineTimes = []\n",
    "        self.targets = []\n",
    "\n",
    "        # start chain process\n",
    "        self.action = self.env.process(self.run())\n",
    "        \n",
    "    def run(self):\n",
    "        t=None\n",
    "        while True:\n",
    "            t0 = self.env.now\n",
    "\n",
    "            # await parents for new block\n",
    "            t1 = self.env.now\n",
    "            self.isBlocked = True\n",
    "            parents = yield AwaitParents(self.env, self.graph, self.currentBlock)\n",
    "            self.isBlocked = False\n",
    "            self.blockedTimes.append(self.env.now - t1)\n",
    "\n",
    "            # pact new block (TODO: do we call this here? There should\n",
    "            # no reason to wait for *all* adjacents for calling new block)\n",
    "            d = pactDelay(self.ctx)\n",
    "            yield self.env.timeout(d)\n",
    "            self.newBlockTimes.append(d)\n",
    "\n",
    "            # mine\n",
    "            t1 = self.env.now\n",
    "            block = yield Mine(self.ctx, self.chain, self.currentBlock, parents)\n",
    "            self.mineTimes.append(self.env.now - t1)\n",
    "            self.currentBlock = block\n",
    "            self.targets.append(block.target)\n",
    "                    \n",
    "            # publish block asynchronously\n",
    "            Publish(self.ctx, block)\n",
    "                \n",
    "            self.cycleTimes.append(self.env.now - t0)"
   ]
  },
  {
   "cell_type": "markdown",
   "metadata": {},
   "source": [
    "## Chainweb"
   ]
  },
  {
   "cell_type": "code",
   "execution_count": 16,
   "metadata": {},
   "outputs": [],
   "source": [
    "class Chainweb:\n",
    "\n",
    "    def __init__(self, ctx):\n",
    "        self.ctx = ctx\n",
    "        \n",
    "        self.graph = self.ctx.graph\n",
    "        self.env = self.ctx.env\n",
    "        self.da = self.ctx.da\n",
    "        self.conf = self.ctx.conf\n",
    "\n",
    "        for i in self.graph.es:\n",
    "            i[\"link\"] = FilterStore(self.env)\n",
    "\n",
    "        for i in self.graph.vs:\n",
    "            chain = Chain(self.ctx, i.index)\n",
    "            i[\"chain\"] = chain\n",
    "        \n",
    "        self.chains = self.graph.vs[\"chain\"]"
   ]
  },
  {
   "cell_type": "markdown",
   "metadata": {},
   "source": [
    "# Statistics"
   ]
  },
  {
   "cell_type": "code",
   "execution_count": 17,
   "metadata": {},
   "outputs": [],
   "source": [
    "# Monitor the value of variables at fixed intervals\n",
    "#\n",
    "def monitor(env, chainweb, n):\n",
    "    blocked = []\n",
    "    while True:\n",
    "        yield env.timeout(n)\n",
    "        cur = [ i.isBlocked for i in chainweb.graph.vs[\"chain\"] ]\n",
    "        blocked.append(sum(cur)/ len(cur))\n",
    "        print(\"[%d][MONITOR] %d%% blocked\" % (env.now, 100 * sum(cur) / len(cur)))"
   ]
  },
  {
   "cell_type": "markdown",
   "metadata": {},
   "source": [
    "# Main"
   ]
  },
  {
   "cell_type": "code",
   "execution_count": 18,
   "metadata": {},
   "outputs": [],
   "source": [
    "class Ctx:\n",
    "    def __init__(self, env, conf):\n",
    "        self.env = env\n",
    "        self.conf = conf\n",
    "        self.graph = conf.GRAPH\n",
    "        \n",
    "        # Initialize DA object\n",
    "        self.da = conf.DA(self)\n",
    "        \n",
    "        # PRNGs\n",
    "        self.prng = default_rng(conf.RNG_SEED)\n",
    "        self.prng_ = RandomState(conf.RNG_SEED) # scipy uses the legacy generator"
   ]
  },
  {
   "cell_type": "code",
   "execution_count": 19,
   "metadata": {},
   "outputs": [],
   "source": [
    "def main(conf, n):\n",
    "    env = Environment()\n",
    "    ctx = Ctx(env = env, conf = conf)\n",
    "    cw = Chainweb(ctx)\n",
    "    m = env.process(monitor(env, cw, n/10))\n",
    "    env.run(until=n)\n",
    "    return cw"
   ]
  },
  {
   "cell_type": "markdown",
   "metadata": {},
   "source": [
    "# Run Simulation\n",
    "\n",
    "We run the simulation in three different configurations:\n",
    "\n",
    "1.  No chain target multipliers and `ChainDA`\n",
    "2.  No chain target mulitpliers and `AvgDA`\n",
    "3.  per chain target multipliers and `LocalDA`\n",
    "\n",
    "Different target multipliers simulate a situation where different chains receive different hash power or use different hash algorithms.\n",
    "\n",
    "Results for scenario 1. and 2. don't depend on the choice of that block time within the allowed range, i.e. strictly larger than the parent time and smaller than the real time when the block is solved. But both\n",
    "scenarios can't handle target multipliers.\n",
    "\n",
    "Scenario 3. yields robust results when target multipliers are used, but depends on the block times chosen to be close to the actual solve time. If the block times that don't depend on the solve time result in unstable DA and very long blocked times on some chains, which means that mining on those chains becomes a lotery that doesn't depend on hash power.\n",
    "\n",
    "In the third scenario it seems that the DA is unstable under poorly chosen block times even if no multipliers are used (TODO: double check that claim). This indicates that the natural noise in the solve times is amplified by the algorithm. The quality of the choice of the block time affects the convergence speed. It's not yet clear whether it also affects the quality of DA once the chains reach their plateau."
   ]
  },
  {
   "cell_type": "code",
   "execution_count": 20,
   "metadata": {},
   "outputs": [],
   "source": [
    "n = 500000"
   ]
  },
  {
   "cell_type": "markdown",
   "metadata": {},
   "source": [
    "## LocalDA\n",
    "\n",
    "Run standard config with LocalDA and\n",
    "\n",
    "* 1 hash function\n",
    "* pact validation 0.02sec\n",
    "* block times ranging from 0.1 to 0.9 of solve time"
   ]
  },
  {
   "cell_type": "code",
   "execution_count": 21,
   "metadata": {},
   "outputs": [
    {
     "name": "stdout",
     "output_type": "stream",
     "text": [
      "[50000][MONITOR] 70% blocked\n",
      "[100000][MONITOR] 75% blocked\n",
      "[150000][MONITOR] 50% blocked\n",
      "[200000][MONITOR] 60% blocked\n",
      "[250000][MONITOR] 60% blocked\n",
      "[300000][MONITOR] 60% blocked\n",
      "[350000][MONITOR] 65% blocked\n",
      "[400000][MONITOR] 70% blocked\n",
      "[450000][MONITOR] 65% blocked\n",
      "[50000][MONITOR] 65% blocked\n",
      "[100000][MONITOR] 60% blocked\n",
      "[150000][MONITOR] 80% blocked\n",
      "[200000][MONITOR] 85% blocked\n",
      "[250000][MONITOR] 65% blocked\n",
      "[300000][MONITOR] 70% blocked\n",
      "[350000][MONITOR] 70% blocked\n",
      "[400000][MONITOR] 80% blocked\n",
      "[450000][MONITOR] 90% blocked\n",
      "[50000][MONITOR] 55% blocked\n",
      "[100000][MONITOR] 50% blocked\n",
      "[150000][MONITOR] 60% blocked\n",
      "[200000][MONITOR] 70% blocked\n",
      "[250000][MONITOR] 75% blocked\n",
      "[300000][MONITOR] 60% blocked\n",
      "[350000][MONITOR] 85% blocked\n",
      "[400000][MONITOR] 65% blocked\n",
      "[450000][MONITOR] 70% blocked\n",
      "[50000][MONITOR] 35% blocked\n",
      "[100000][MONITOR] 60% blocked\n",
      "[150000][MONITOR] 70% blocked\n",
      "[200000][MONITOR] 65% blocked\n",
      "[250000][MONITOR] 70% blocked\n",
      "[300000][MONITOR] 60% blocked\n",
      "[350000][MONITOR] 65% blocked\n",
      "[400000][MONITOR] 55% blocked\n",
      "[450000][MONITOR] 70% blocked\n",
      "[50000][MONITOR] 50% blocked\n",
      "[100000][MONITOR] 75% blocked\n",
      "[150000][MONITOR] 55% blocked\n",
      "[200000][MONITOR] 45% blocked\n",
      "[250000][MONITOR] 60% blocked\n",
      "[300000][MONITOR] 55% blocked\n",
      "[350000][MONITOR] 65% blocked\n",
      "[400000][MONITOR] 60% blocked\n",
      "[450000][MONITOR] 75% blocked\n",
      "[50000][MONITOR] 60% blocked\n",
      "[100000][MONITOR] 50% blocked\n",
      "[150000][MONITOR] 50% blocked\n",
      "[200000][MONITOR] 90% blocked\n",
      "[250000][MONITOR] 75% blocked\n",
      "[300000][MONITOR] 65% blocked\n",
      "[350000][MONITOR] 55% blocked\n",
      "[400000][MONITOR] 80% blocked\n",
      "[450000][MONITOR] 60% blocked\n"
     ]
    }
   ],
   "source": [
    "conf = Config(LocalDA)\n",
    "conf.BLOCK_TIME_CHOICE = 0.1\n",
    "cw_localDA_01 = main(conf, n)\n",
    "\n",
    "conf = Config(LocalDA)\n",
    "conf.BLOCK_TIME_CHOICE = 0.2\n",
    "cw_localDA_02 = main(conf, n)\n",
    "\n",
    "conf = Config(LocalDA)\n",
    "conf.BLOCK_TIME_CHOICE = 0.3\n",
    "cw_localDA_03 = main(conf, n)\n",
    "\n",
    "conf = Config(LocalDA)\n",
    "conf.BLOCK_TIME_CHOICE = 0.4\n",
    "cw_localDA_04 = main(conf, n)\n",
    "\n",
    "conf = Config(LocalDA)\n",
    "conf.BLOCK_TIME_CHOICE = 0.5\n",
    "cw_localDA_05 = main(conf, n)\n",
    "\n",
    "conf = Config(LocalDA)\n",
    "conf.BLOCK_TIME_CHOICE = 0.9\n",
    "cw_localDA_09 = main(Config(LocalDA), n)"
   ]
  },
  {
   "cell_type": "markdown",
   "metadata": {},
   "source": [
    "## AvgDA\n",
    "\n",
    "Run standard config with AvgDA and\n",
    "\n",
    "* 1 hash function\n",
    "* pact validation 0.02sec"
   ]
  },
  {
   "cell_type": "code",
   "execution_count": 22,
   "metadata": {},
   "outputs": [
    {
     "name": "stdout",
     "output_type": "stream",
     "text": [
      "[50000][MONITOR] 40% blocked\n",
      "[100000][MONITOR] 45% blocked\n",
      "[150000][MONITOR] 65% blocked\n",
      "[200000][MONITOR] 80% blocked\n",
      "[250000][MONITOR] 85% blocked\n",
      "[300000][MONITOR] 55% blocked\n",
      "[350000][MONITOR] 60% blocked\n",
      "[400000][MONITOR] 60% blocked\n",
      "[450000][MONITOR] 60% blocked\n"
     ]
    }
   ],
   "source": [
    "cw_avgDA = main(Config(AvgDA), n)"
   ]
  },
  {
   "cell_type": "markdown",
   "metadata": {},
   "source": [
    "## ChainDA\n",
    "\n",
    "Run standard config with ChainDA and\n",
    "\n",
    "* 1 hash function\n",
    "* pact validation 0.02sec"
   ]
  },
  {
   "cell_type": "code",
   "execution_count": 23,
   "metadata": {},
   "outputs": [
    {
     "name": "stdout",
     "output_type": "stream",
     "text": [
      "[50000][MONITOR] 60% blocked\n",
      "[100000][MONITOR] 50% blocked\n",
      "[150000][MONITOR] 65% blocked\n",
      "[200000][MONITOR] 65% blocked\n",
      "[250000][MONITOR] 60% blocked\n",
      "[300000][MONITOR] 70% blocked\n",
      "[350000][MONITOR] 70% blocked\n",
      "[400000][MONITOR] 65% blocked\n",
      "[450000][MONITOR] 65% blocked\n"
     ]
    }
   ],
   "source": [
    "cw_chainDA = main(Config(ChainDA), n)"
   ]
  },
  {
   "cell_type": "markdown",
   "metadata": {},
   "source": [
    "# Process and Store Results"
   ]
  },
  {
   "cell_type": "code",
   "execution_count": 25,
   "metadata": {},
   "outputs": [],
   "source": [
    "def getData(cw):\n",
    "    chains = cw.chains\n",
    "    cs = pd.DataFrame()\n",
    "    cs[\"cycle times\"] = pd.DataFrame(dict([(c.chain, pd.Series(c.cycleTimes)) for c in chains])).stack()\n",
    "    cs[\"blocked times\"] = pd.DataFrame(dict([(c.chain, pd.Series(c.blockedTimes)) for c in chains])).stack()\n",
    "    cs[\"targets\"] = pd.DataFrame(dict([(c.chain, pd.Series(c.targets)) for c in chains])).stack()\n",
    "    cs[\"new block times\"] = pd.DataFrame(dict([(c.chain, pd.Series(c.newBlockTimes)) for c in chains])).stack()\n",
    "    cs[\"mine times\"] = pd.DataFrame(dict([(c.chain, pd.Series(c.mineTimes)) for c in chains])).stack()\n",
    "    cs.index.names = [\"height\", \"chain\"]\n",
    "    return cs"
   ]
  },
  {
   "cell_type": "code",
   "execution_count": 27,
   "metadata": {},
   "outputs": [],
   "source": [
    "data = pd.DataFrame({\n",
    "    \"local_DA_01\": getData(cw_localDA_01).stack(),\n",
    "    \"local_DA_02\": getData(cw_localDA_02).stack(),\n",
    "    \"local_DA_03\": getData(cw_localDA_03).stack(),\n",
    "    \"local_DA_04\": getData(cw_localDA_04).stack(),\n",
    "    \"local_DA_05\": getData(cw_localDA_05).stack(),\n",
    "    \"local_DA_09\": getData(cw_localDA_09).stack(),\n",
    "    \"avg_DA\": getData(cw_avgDA).stack(),\n",
    "    \"chain_DA\": getData(cw_chainDA).stack()\n",
    "})\n",
    "data.index.names=[\"height\", \"chain\", \"metric\"]"
   ]
  },
  {
   "cell_type": "markdown",
   "metadata": {},
   "source": [
    "Store the data so that we don't have to recompute it each time we run the notebook"
   ]
  },
  {
   "cell_type": "code",
   "execution_count": null,
   "metadata": {},
   "outputs": [],
   "source": [
    "data.to_pickle(\"DA-data.pkl.gz\", protocol=5, compression='gzip')"
   ]
  },
  {
   "cell_type": "code",
   "execution_count": null,
   "metadata": {},
   "outputs": [],
   "source": []
  }
 ],
 "metadata": {
  "kernelspec": {
   "display_name": "Python 3",
   "language": "python",
   "name": "python3"
  },
  "language_info": {
   "codemirror_mode": {
    "name": "ipython",
    "version": 3
   },
   "file_extension": ".py",
   "mimetype": "text/x-python",
   "name": "python",
   "nbconvert_exporter": "python",
   "pygments_lexer": "ipython3",
   "version": "3.8.2"
  }
 },
 "nbformat": 4,
 "nbformat_minor": 4
}

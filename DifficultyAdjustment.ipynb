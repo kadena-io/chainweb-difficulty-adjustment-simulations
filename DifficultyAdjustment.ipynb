{
 "cells": [
  {
   "cell_type": "code",
   "execution_count": 31,
   "metadata": {
    "collapsed": true
   },
   "outputs": [
    {
     "name": "stdout",
     "output_type": "stream",
     "text": [
      "Requirement already satisfied: python-igraph in /usr/local/Cellar/jupyterlab/2.1.2/libexec/lib/python3.8/site-packages (0.8.2)\n",
      "Requirement already satisfied: simpy in /usr/local/Cellar/jupyterlab/2.1.2/libexec/lib/python3.8/site-packages (4.0.1)\n",
      "Requirement already satisfied: numpy in /usr/local/Cellar/jupyterlab/2.1.2/libexec/lib/python3.8/site-packages (1.18.4)\n",
      "Requirement already satisfied: scipy in /usr/local/Cellar/jupyterlab/2.1.2/libexec/lib/python3.8/site-packages (1.4.1)\n",
      "Collecting matplotlib\n",
      "  Downloading matplotlib-3.2.1-cp38-cp38-macosx_10_9_x86_64.whl (12.4 MB)\n",
      "\u001b[K     |████████████████████████████████| 12.4 MB 2.0 MB/s eta 0:00:01\n",
      "\u001b[?25hRequirement already satisfied: texttable>=1.6.2 in /usr/local/Cellar/jupyterlab/2.1.2/libexec/lib/python3.8/site-packages (from python-igraph) (1.6.2)\n",
      "Collecting kiwisolver>=1.0.1\n",
      "  Downloading kiwisolver-1.2.0-cp38-cp38-macosx_10_9_x86_64.whl (60 kB)\n",
      "\u001b[K     |████████████████████████████████| 60 kB 1.5 MB/s eta 0:00:01\n",
      "\u001b[?25hCollecting pyparsing!=2.0.4,!=2.1.2,!=2.1.6,>=2.0.1\n",
      "  Using cached pyparsing-2.4.7-py2.py3-none-any.whl (67 kB)\n",
      "Requirement already satisfied: python-dateutil>=2.1 in /usr/local/Cellar/jupyterlab/2.1.2/libexec/lib/python3.8/site-packages (from matplotlib) (2.8.1)\n",
      "Collecting cycler>=0.10\n",
      "  Using cached cycler-0.10.0-py2.py3-none-any.whl (6.5 kB)\n",
      "Requirement already satisfied: six>=1.5 in /usr/local/Cellar/jupyterlab/2.1.2/libexec/lib/python3.8/site-packages (from python-dateutil>=2.1->matplotlib) (1.14.0)\n",
      "Installing collected packages: kiwisolver, pyparsing, cycler, matplotlib\n",
      "Successfully installed cycler-0.10.0 kiwisolver-1.2.0 matplotlib-3.2.1 pyparsing-2.4.7\n"
     ]
    }
   ],
   "source": [
    "# import sys\n",
    "# !{sys.executable} -m pip install python-igraph simpy numpy scipy matplotlib"
   ]
  },
  {
   "cell_type": "code",
   "execution_count": 33,
   "metadata": {},
   "outputs": [],
   "source": [
    "import igraph\n",
    "import math\n",
    "import matplotlib.pyplot as plt\n",
    "import numpy as np\n",
    "from numpy.random import default_rng, RandomState\n",
    "from scipy.stats import fisk # log-logistic distribution\n",
    "from simpy import *\n",
    "from simpy.events import AnyOf, AllOf, Event\n",
    "from simpy.resources.store import *"
   ]
  },
  {
   "cell_type": "code",
   "execution_count": 85,
   "metadata": {},
   "outputs": [
    {
     "name": "stdout",
     "output_type": "stream",
     "text": [
      "Using matplotlib backend: MacOSX\n"
     ]
    }
   ],
   "source": [
    "%matplotlib"
   ]
  },
  {
   "cell_type": "markdown",
   "metadata": {},
   "source": [
    "# Configuration"
   ]
  },
  {
   "cell_type": "code",
   "execution_count": 359,
   "metadata": {},
   "outputs": [],
   "source": [
    "RNG_SEED = 17\n",
    "\n",
    "MEAN_BLOCK_TIME = 30\n",
    "EPOCH = 120\n",
    "\n",
    "# block latencies (validation + network + validation)\n",
    "MEDIAN_LOCAL_BLOCK_LATENCY = 0.1\n",
    "MEDIAN_REMOTE_BLOCK_LATENCY = 0.8\n",
    "SD_BLOCK_LATENCY_FACTOR = 1\n",
    "\n",
    "# Pact delay\n",
    "MEDIAN_PACT_DELAY = 0.07"
   ]
  },
  {
   "cell_type": "markdown",
   "metadata": {},
   "source": [
    "# Preliminaries"
   ]
  },
  {
   "cell_type": "markdown",
   "metadata": {},
   "source": [
    "## PRNG"
   ]
  },
  {
   "cell_type": "code",
   "execution_count": 360,
   "metadata": {},
   "outputs": [],
   "source": [
    "prng = default_rng(RNG_SEED)\n",
    "prng_ = RandomState(RNG_SEED) # scipy uses the legacy generator"
   ]
  },
  {
   "cell_type": "markdown",
   "metadata": {},
   "source": [
    "## Graphs"
   ]
  },
  {
   "cell_type": "code",
   "execution_count": 361,
   "metadata": {},
   "outputs": [],
   "source": [
    "def peterson():\n",
    "    graph = igraph.Graph(directed=True)\n",
    "    graph.add_vertices(10)\n",
    "    graph.add_edges(\n",
    "        [ (0, 0), (0, 2), (0, 3), (0, 5)\n",
    "        , (1, 1), (1, 3), (1, 4), (1, 6)\n",
    "        , (2, 2), (2, 0), (2, 4), (2, 7)\n",
    "        , (3, 3), (3, 0), (3, 1), (3, 8)\n",
    "        , (4, 4), (4, 1), (4, 2), (4, 9)\n",
    "        , (5, 5), (5, 0), (5, 6), (5, 9)\n",
    "        , (6, 6), (6, 1), (6, 5), (6, 7)\n",
    "        , (7, 7), (7, 2), (7, 6), (7, 8)\n",
    "        , (8, 8), (8, 3), (8, 7), (8, 9)\n",
    "        , (9, 9), (9, 4), (9, 5), (9, 8)\n",
    "        ]\n",
    "    )\n",
    "    return(graph)\n",
    "\n",
    "Peterson = peterson()\n",
    "\n",
    "def twenty():\n",
    "    graph = igraph.Graph(directed=True)\n",
    "    graph.add_vertices(20)\n",
    "    graph.add_edges(\n",
    "        [ (0, 0), (0, 10), (0,15), (0,5)\n",
    "        , (1, 1), (1, 11), (1,16), (1,6)\n",
    "        , (2, 2), (2, 12), (2,17), (2,7)\n",
    "        , (3, 3), (3, 13), (3,18), (3,8)\n",
    "        , (4, 4), (4, 14), (4,19), (4,9)\n",
    "        , (5, 5), (5, 0), (5,7), (5,8)\n",
    "        , (6, 6), (6, 1), (6,8), (6,9)\n",
    "        , (7, 7), (7, 2), (7,5), (7,9)\n",
    "        , (8, 8), (8, 3), (8,5), (8,6)\n",
    "        , (9, 9), (9, 4), (9,6), (9,7)\n",
    "        , (10, 10), (10, 0), (10,11), (10,19)\n",
    "        , (11, 11), (11, 1), (11,10), (11,12)\n",
    "        , (12, 12), (12, 11), (12,13), (12,2)\n",
    "        , (13, 13), (13, 12), (13,14), (13,3)\n",
    "        , (14, 14), (14, 13), (14,15), (14,4)\n",
    "        , (15, 15), (15, 0), (15,14), (15,16)\n",
    "        , (16, 16), (16, 1), (16,15), (16,17)\n",
    "        , (17, 17), (17, 16), (17,18), (17,2)\n",
    "        , (18, 18), (18, 17), (18,19), (18,3)\n",
    "        , (19, 19), (19, 10), (19,18), (19,4)\n",
    "        ]\n",
    "    )\n",
    "    return (graph)\n",
    "\n",
    "Twenty = twenty()"
   ]
  },
  {
   "cell_type": "markdown",
   "metadata": {},
   "source": [
    "## Histogram"
   ]
  },
  {
   "cell_type": "code",
   "execution_count": 362,
   "metadata": {},
   "outputs": [],
   "source": [
    "# Quick and Dirty Linear Histogram\n",
    "\n",
    "# TODO: there are probably some good libraries with support for this\n",
    "#\n",
    "class Histogram:\n",
    "\n",
    "    def __init__(self, binSize):\n",
    "        self.bins = {}\n",
    "        self.binSize = binSize\n",
    "\n",
    "    def sample(self, x):\n",
    "        i = math.floor(x / self.binSize)\n",
    "        if i in self.bins:\n",
    "            self.bins[i] += 1\n",
    "        else:\n",
    "            self.bins[i] = 1\n",
    "\n",
    "    def append(self, h):\n",
    "        if h.binSize == self.binSize:\n",
    "            for i in h.bins:\n",
    "                if i in self.bins:\n",
    "                    self.bins[i] += h.bins[i]\n",
    "                else:\n",
    "                    self.bins[i] = h.bins[i]\n",
    "        else:\n",
    "            throw(\"merging histograms with different bin sizes isn't yet implemented\")\n",
    "\n",
    "    def result(self):\n",
    "        imin = min(self.bins.keys())\n",
    "        imax = max(self.bins.keys())\n",
    "        a = [0] * (imax - imin + 1)\n",
    "        b = [self.binSize * k for k in range(imin, imax + 1)]\n",
    "        for i in range(imin, imax + 1):\n",
    "            if i in self.bins:\n",
    "                a[i - imin] = self.bins[i]\n",
    "        return a, b\n",
    "\n",
    "# TODO: implement more general WithStatistics class\n",
    "class HistogramSample:\n",
    "    def __init__(self, histogram, clock):\n",
    "        self.histogram = histogram\n",
    "        self.clock = clock\n",
    "    def __enter__(self):\n",
    "        self.start = self.clock.now\n",
    "        return self.start\n",
    "    def __exit__(self, type, value, traceback):\n",
    "        self.histogram.sample(self.clock.now - self.start)\n",
    "        return None # rethrow"
   ]
  },
  {
   "cell_type": "markdown",
   "metadata": {},
   "source": [
    "## Logger"
   ]
  },
  {
   "cell_type": "code",
   "execution_count": 363,
   "metadata": {},
   "outputs": [],
   "source": [
    "# Each object must have a method called \"label\"\n",
    "class Logger:\n",
    "    def __init__(self, env, label : str, tags : [str] = []):\n",
    "        self.label = label\n",
    "        self.tags = tags\n",
    "        self.env = env\n",
    "    \n",
    "    def logg(self, tag : str, msg : str):\n",
    "        if tag in self.tags:\n",
    "            print(\"[%d][%s] %s\" % (self.env.now, self.label, msg))"
   ]
  },
  {
   "cell_type": "markdown",
   "metadata": {},
   "source": [
    "# Simulation Model\n",
    "\n",
    "## Durations\n",
    "\n",
    "We use the log-logistic distribution with shape parameter 8 to model network latencies and pact evaluation durations."
   ]
  },
  {
   "cell_type": "code",
   "execution_count": 364,
   "metadata": {},
   "outputs": [],
   "source": [
    "# latency: validation + network + validation\n",
    "def latencyDelay(graph, edge):\n",
    "    median = MEDIAN_LOCAL_BLOCK_LATENCY if edge.target == edge.source else MEDIAN_REMOTE_BLOCK_LATENCY\n",
    "\n",
    "    # It seems that fisk.median(c=c, loc=a) == a+1, for all c\n",
    "    return fisk.rvs(c=8, loc=max(0,median - 1), random_state=prng_)\n",
    "\n",
    "# Pact new block\n",
    "def pactDelay():\n",
    "    # It seems that fisk.median(c=c, loc=a) == a+1, for all c\n",
    "    return fisk.rvs(c=8, loc=max(0,MEDIAN_PACT_DELAY - 1), random_state=prng_)"
   ]
  },
  {
   "cell_type": "markdown",
   "metadata": {},
   "source": [
    "## Blocks"
   ]
  },
  {
   "cell_type": "code",
   "execution_count": 365,
   "metadata": {},
   "outputs": [],
   "source": [
    "class Block:\n",
    "    def __init__(self, chainId, height, time, epochTime, target):\n",
    "        self.chainId = chainId\n",
    "        self.height = height\n",
    "        self.time = time\n",
    "\n",
    "        # For Da\n",
    "        self.epochTime = epochTime\n",
    "        self.target = target\n",
    "\n",
    "        def __lt__(self, other):\n",
    "            self.height < other.height"
   ]
  },
  {
   "cell_type": "markdown",
   "metadata": {},
   "source": [
    "## Difficulty Adjustment Algorithms"
   ]
  },
  {
   "cell_type": "code",
   "execution_count": 366,
   "metadata": {},
   "outputs": [],
   "source": [
    "# DA\n",
    "\n",
    "# DA that does local adjustments based on a globally\n",
    "# synchronized epoch.\n",
    "#\n",
    "# This is what is currently implemented on mainnet.\n",
    "#\n",
    "def chainDa(env, parent):\n",
    "    if parent == None:\n",
    "        return env.now, MEAN_BLOCK_TIME\n",
    "    if (parent.height + 1) % EPOCH == 0:\n",
    "        epochTime = parent.time\n",
    "        target = parent.target * (MEAN_BLOCK_TIME * EPOCH) / (parent.time - parent.epochTime)\n",
    "        # self.logg(\"da\", \"adjusted target from %f to %f\" % (parent.target, target))\n",
    "    else:\n",
    "        epochTime = parent.epochTime\n",
    "        target = parent.target\n",
    "    return epochTime, target\n",
    "\n",
    "# DA that is based on globally synchronized epoch. It performs\n",
    "# chainDa and takes the average for the chain along with all it's\n",
    "# adjacent chains.\n",
    "#\n",
    "def avgDa(env, parent, parents):\n",
    "    def avg(a): return sum(a) / len(a)\n",
    "\n",
    "    if parent == None:\n",
    "        return env.now, MEAN_BLOCK_TIME\n",
    "    epochTimes, targets = zip(*[self.chainDa(p) for p in list(parents).append(parent)])\n",
    "    epochTime = avg(epochTimes)\n",
    "    target = avg(targets)\n",
    "    self.logg(\"da\", \"adjusted target from %f to %f\" % (parent.target, target))\n",
    "    return epochTime, target"
   ]
  },
  {
   "cell_type": "markdown",
   "metadata": {},
   "source": [
    "## Mining"
   ]
  },
  {
   "cell_type": "code",
   "execution_count": 367,
   "metadata": {},
   "outputs": [],
   "source": [
    "class Mine(Process):\n",
    "    def __init__(self, env, chainId, parent, parents):\n",
    "        \n",
    "        self.env = env\n",
    "        self.parent = parent\n",
    "        self.parents = parents\n",
    "        self.chainId = chainId\n",
    "\n",
    "        super().__init__(env, self.run())\n",
    "\n",
    "\n",
    "    def run(self):\n",
    "        # adjust difficulty\n",
    "        epochTime, target = chainDa(self.env, self.parent)\n",
    "        # epochTime, target = self.avgDa(parent, parents)\n",
    "        \n",
    "        height = 0 if self.parent == None else self.parent.height + 1\n",
    "\n",
    "        # mine\n",
    "        newTime = self.env.now # current behavior\n",
    "        solveTime = prng.exponential(target)\n",
    "        # self.logg(\"mine\", \"start mining with solve time %f\" % solveTime)\n",
    "        yield self.env.timeout(solveTime)\n",
    "\n",
    "        # create new block\n",
    "        # newTime = self.env.now # proposed behavior\n",
    "        block = Block(\n",
    "                chainId = self.chainId,\n",
    "                height = height,\n",
    "                time = newTime,\n",
    "                epochTime = epochTime,\n",
    "                target = target\n",
    "            )\n",
    "        # self.logg(\"mine\", 'created block %i with t=%f' % (block.height, block.time))\n",
    "        return block"
   ]
  },
  {
   "cell_type": "markdown",
   "metadata": {},
   "source": [
    "## Chain"
   ]
  },
  {
   "cell_type": "code",
   "execution_count": 368,
   "metadata": {},
   "outputs": [],
   "source": [
    "class AwaitParents(Process):\n",
    "    def __init__(self, env, graph, block : Block):\n",
    "    \n",
    "        def run():\n",
    "            # No parents for the genesis block\n",
    "            if block == None: return []\n",
    "    \n",
    "            chainId = block.chainId\n",
    "            edges = graph.vs[chainId].in_edges()\n",
    "            f = lambda b: b.height == block.height\n",
    "            results = yield AllOf(env, [ FilterStoreGet(e[\"link\"], f) for e in edges ])\n",
    "            parents = list(results.values())\n",
    "            return parents\n",
    "    \n",
    "        super().__init__(env, run())"
   ]
  },
  {
   "cell_type": "code",
   "execution_count": 369,
   "metadata": {},
   "outputs": [],
   "source": [
    "# asynchronously publish block to each adjacent chain\n",
    "#\n",
    "# TODO should this an process or is it fine for it to be instantaneous?\n",
    "#\n",
    "class Publish:\n",
    "    def __init__(self, env, graph, block):\n",
    "        self.env = env\n",
    "        self.graph = graph\n",
    "        self.block = block\n",
    "        self.chain = block.chainId\n",
    "        self.run()\n",
    "\n",
    "    def run(self):\n",
    "        for e in self.graph.vs[self.chain].out_edges():\n",
    "            self.env.process(self.publishToChain(e))\n",
    "        \n",
    "    def publishToChain(self,e):\n",
    "        # self.logg(\"net\", \"publish height %i to %i\" % (block.height, e.tuple[1]))\n",
    "\n",
    "        # apply latency delay\n",
    "        yield self.env.timeout(latencyDelay(self.graph, e))\n",
    "\n",
    "        # Make block available for use on target chain\n",
    "        yield StorePut(e[\"link\"], self.block)"
   ]
  },
  {
   "cell_type": "code",
   "execution_count": 370,
   "metadata": {},
   "outputs": [],
   "source": [
    "class Chain:\n",
    "    def __init__(self, env, chainId : int, graph, logTags : [str] = []):\n",
    "\n",
    "        # Context\n",
    "        self.env = env\n",
    "        self.graph = graph\n",
    "        self.chain = chainId\n",
    "        self.logger = Logger(env, \"chain %d\" % chainId, logTags)\n",
    "        self.logg = self.logger.logg\n",
    "\n",
    "        # State\n",
    "        self.currentBlock = None\n",
    "\n",
    "        # Monitors and Statistics\n",
    "        self.isBlocked = False\n",
    "        self.blockedTime = 0\n",
    "        self.blockedHist = Histogram(1)\n",
    "        self.cycleHist = Histogram(1)\n",
    "        self.miningHist = Histogram(1)\n",
    "\n",
    "        # start chain process\n",
    "        self.action = env.process(self.run())\n",
    "        \n",
    "    def run(self):\n",
    "        t=None\n",
    "        while True:\n",
    "            with HistogramSample(self.cycleHist, self.env):\n",
    "\n",
    "                # await parents for new block\n",
    "                if self.currentBlock:\n",
    "                    self.logg(\"net\", \"await parents at height %d\" % self.currentBlock.height)\n",
    "                with HistogramSample(self.blockedHist, self.env):\n",
    "                    t0 = self.env.now\n",
    "                    self.isBlocked = True\n",
    "                    parents = yield AwaitParents(self.env, self.graph, self.currentBlock)\n",
    "                    self.isBlocked = False\n",
    "                    self.blockedTime += self.env.now - t0\n",
    "\n",
    "                # pact new block (TODO: do we call this here? There should\n",
    "                # no reason to wait for *all* adjacents for calling new block)\n",
    "                yield self.env.timeout(pactDelay())\n",
    "\n",
    "                # mine\n",
    "                if self.currentBlock:\n",
    "                    self.logg(\"mine\", \"mine and publish block at height %d\" % self.currentBlock.height)\n",
    "                with HistogramSample(self.miningHist, self.env):\n",
    "                    # block = yield self.env.process(self.mineBlock(parents))\n",
    "                    block = yield Mine(self.env, self.chain, self.currentBlock, parents)\n",
    "                    self.currentBlock = block\n",
    "                    \n",
    "                # publish block asynchronously\n",
    "                Publish(self.env, self.graph, block)"
   ]
  },
  {
   "cell_type": "markdown",
   "metadata": {},
   "source": [
    "## Chainweb"
   ]
  },
  {
   "cell_type": "code",
   "execution_count": 371,
   "metadata": {},
   "outputs": [],
   "source": [
    "class Chainweb:\n",
    "\n",
    "    def __init__(self, env, graph, logTags = []):\n",
    "        self.graph = graph\n",
    "        self.env = env\n",
    "\n",
    "        for i in self.graph.es:\n",
    "            i[\"link\"] = FilterStore(env)\n",
    "\n",
    "        for i in self.graph.vs:\n",
    "            print(\"chain %d\" % i.index)\n",
    "            chain = Chain(env, i.index, self.graph, logTags)\n",
    "            i[\"chain\"] = chain"
   ]
  },
  {
   "cell_type": "markdown",
   "metadata": {},
   "source": [
    "# Statistics"
   ]
  },
  {
   "cell_type": "code",
   "execution_count": 372,
   "metadata": {},
   "outputs": [],
   "source": [
    "# Monitor the value of variables at fixed intervals\n",
    "#\n",
    "def monitor(env, chainweb, n):\n",
    "    while True:\n",
    "        yield env.timeout(n)\n",
    "        blocked = [ i.isBlocked for i in chainweb.graph.vs[\"chain\"] ]\n",
    "        print(\"[%d][MONITOR] %d%% blocked\" % (env.now, 100 * sum(blocked) / len(blocked)))\n",
    "\n",
    "# Plot a histogram\n",
    "#\n",
    "def plotHist(hists, cols=1):\n",
    "    fig = plt.figure()\n",
    "    rows = math.floor(len(hists) / cols)\n",
    "    for i,(t,h) in enumerate(hists.items()):\n",
    "        p = fig.add_subplot(rows, cols, i+1)\n",
    "        y,x = h.result()\n",
    "        p.bar(x,y)\n",
    "        p.set_xlabel(\"time\")\n",
    "        p.set_ylabel(t)"
   ]
  },
  {
   "cell_type": "markdown",
   "metadata": {},
   "source": [
    "# Main"
   ]
  },
  {
   "cell_type": "code",
   "execution_count": 373,
   "metadata": {},
   "outputs": [],
   "source": [
    "def main(graph, n, logTags = []):\n",
    "    env = Environment()\n",
    "    cw = Chainweb(env, graph, logTags)\n",
    "    m = env.process(monitor(env, cw, n/10))\n",
    "    env.run(until=n)\n",
    "\n",
    "    print([i.blockedTime for i in cw.graph.vs[\"chain\"]])\n",
    "\n",
    "    blockedHist = Histogram(1)\n",
    "    for i in cw.graph.vs[\"chain\"]:\n",
    "        blockedHist.append(i.blockedHist)\n",
    "\n",
    "    cycleHist = Histogram(1)\n",
    "    for i in cw.graph.vs[\"chain\"]:\n",
    "        cycleHist.append(i.cycleHist)\n",
    "\n",
    "    miningHist = Histogram(1)\n",
    "    for i in cw.graph.vs[\"chain\"]:\n",
    "        miningHist.append(i.miningHist)\n",
    "\n",
    "    return cw, {\n",
    "            \"wait time\": blockedHist,\n",
    "            \"solve time\": miningHist,\n",
    "            \"total block time\": cycleHist\n",
    "        }"
   ]
  },
  {
   "cell_type": "code",
   "execution_count": 374,
   "metadata": {},
   "outputs": [
    {
     "name": "stdout",
     "output_type": "stream",
     "text": [
      "chain 0\n",
      "chain 1\n",
      "chain 2\n",
      "chain 3\n",
      "chain 4\n",
      "chain 5\n",
      "chain 6\n",
      "chain 7\n",
      "chain 8\n",
      "chain 9\n",
      "[100000][MONITOR] 50% blocked\n",
      "[200000][MONITOR] 90% blocked\n",
      "[300000][MONITOR] 60% blocked\n",
      "[400000][MONITOR] 70% blocked\n",
      "[500000][MONITOR] 90% blocked\n",
      "[600000][MONITOR] 70% blocked\n",
      "[700000][MONITOR] 50% blocked\n",
      "[800000][MONITOR] 50% blocked\n",
      "[900000][MONITOR] 30% blocked\n",
      "[590376.8373306601, 584917.6205409302, 587102.1901886018, 585818.336148005, 583440.7043379125, 584352.2718939001, 587230.926407879, 584253.3730424021, 590062.7543976165, 581252.4081305498]\n"
     ]
    }
   ],
   "source": [
    "cw, hists = main(Peterson, 1000000, [])"
   ]
  },
  {
   "cell_type": "code",
   "execution_count": 375,
   "metadata": {},
   "outputs": [],
   "source": [
    "# %matplotlib inline\n",
    "%matplotlib inline\n",
    "plt.rcParams[\"figure.figsize\"] = [16,12]"
   ]
  },
  {
   "cell_type": "code",
   "execution_count": 376,
   "metadata": {},
   "outputs": [
    {
     "data": {
      "image/png": "[encoded data removed]",
      "text/plain": [
       "<Figure size 1152x864 with 3 Axes>"
      ]
     },
     "metadata": {
      "needs_background": "light"
     },
     "output_type": "display_data"
    }
   ],
   "source": [
    "plotHist(hists)"
   ]
  },
  {
   "cell_type": "code",
   "execution_count": null,
   "metadata": {},
   "outputs": [],
   "source": []
  }
 ],
 "metadata": {
  "kernelspec": {
   "display_name": "Python 3",
   "language": "python",
   "name": "python3"
  },
  "language_info": {
   "codemirror_mode": {
    "name": "ipython",
    "version": 3
   },
   "file_extension": ".py",
   "mimetype": "text/x-python",
   "name": "python",
   "nbconvert_exporter": "python",
   "pygments_lexer": "ipython3",
   "version": "3.8.2"
  }
 },
 "nbformat": 4,
 "nbformat_minor": 4
}

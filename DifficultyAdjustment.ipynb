{
 "cells": [
  {
   "cell_type": "code",
   "execution_count": 31,
   "metadata": {
    "collapsed": true
   },
   "outputs": [
    {
     "name": "stdout",
     "output_type": "stream",
     "text": [
      "Requirement already satisfied: python-igraph in /usr/local/Cellar/jupyterlab/2.1.2/libexec/lib/python3.8/site-packages (0.8.2)\n",
      "Requirement already satisfied: simpy in /usr/local/Cellar/jupyterlab/2.1.2/libexec/lib/python3.8/site-packages (4.0.1)\n",
      "Requirement already satisfied: numpy in /usr/local/Cellar/jupyterlab/2.1.2/libexec/lib/python3.8/site-packages (1.18.4)\n",
      "Requirement already satisfied: scipy in /usr/local/Cellar/jupyterlab/2.1.2/libexec/lib/python3.8/site-packages (1.4.1)\n",
      "Collecting matplotlib\n",
      "  Downloading matplotlib-3.2.1-cp38-cp38-macosx_10_9_x86_64.whl (12.4 MB)\n",
      "\u001b[K     |████████████████████████████████| 12.4 MB 2.0 MB/s eta 0:00:01\n",
      "\u001b[?25hRequirement already satisfied: texttable>=1.6.2 in /usr/local/Cellar/jupyterlab/2.1.2/libexec/lib/python3.8/site-packages (from python-igraph) (1.6.2)\n",
      "Collecting kiwisolver>=1.0.1\n",
      "  Downloading kiwisolver-1.2.0-cp38-cp38-macosx_10_9_x86_64.whl (60 kB)\n",
      "\u001b[K     |████████████████████████████████| 60 kB 1.5 MB/s eta 0:00:01\n",
      "\u001b[?25hCollecting pyparsing!=2.0.4,!=2.1.2,!=2.1.6,>=2.0.1\n",
      "  Using cached pyparsing-2.4.7-py2.py3-none-any.whl (67 kB)\n",
      "Requirement already satisfied: python-dateutil>=2.1 in /usr/local/Cellar/jupyterlab/2.1.2/libexec/lib/python3.8/site-packages (from matplotlib) (2.8.1)\n",
      "Collecting cycler>=0.10\n",
      "  Using cached cycler-0.10.0-py2.py3-none-any.whl (6.5 kB)\n",
      "Requirement already satisfied: six>=1.5 in /usr/local/Cellar/jupyterlab/2.1.2/libexec/lib/python3.8/site-packages (from python-dateutil>=2.1->matplotlib) (1.14.0)\n",
      "Installing collected packages: kiwisolver, pyparsing, cycler, matplotlib\n",
      "Successfully installed cycler-0.10.0 kiwisolver-1.2.0 matplotlib-3.2.1 pyparsing-2.4.7\n"
     ]
    }
   ],
   "source": [
    "# import sys\n",
    "# !{sys.executable} -m pip install python-igraph simpy numpy scipy matplotlib"
   ]
  },
  {
   "cell_type": "code",
   "execution_count": 33,
   "metadata": {},
   "outputs": [],
   "source": [
    "import igraph\n",
    "import math\n",
    "import matplotlib.pyplot as plt\n",
    "import numpy as np\n",
    "from numpy.random import default_rng, RandomState\n",
    "from scipy.stats import fisk # log-logistic distribution\n",
    "from simpy import *\n",
    "from simpy.events import AnyOf, AllOf, Event\n",
    "from simpy.resources.store import *"
   ]
  },
  {
   "cell_type": "code",
   "execution_count": 85,
   "metadata": {},
   "outputs": [
    {
     "name": "stdout",
     "output_type": "stream",
     "text": [
      "Using matplotlib backend: MacOSX\n"
     ]
    }
   ],
   "source": [
    "%matplotlib"
   ]
  },
  {
   "cell_type": "markdown",
   "metadata": {},
   "source": [
    "# Configuration"
   ]
  },
  {
   "cell_type": "code",
   "execution_count": 534,
   "metadata": {},
   "outputs": [],
   "source": [
    "MEAN_BLOCK_TIME = 30\n",
    "EPOCH = 120\n",
    "\n",
    "# block latencies (validation + network + validation, including pact validation)\n",
    "LOCAL_BLOCK_LATENCY = 0.2\n",
    "REMOTE_BLOCK_LATENCY = 1\n",
    "NUMBER_OF_MINING_NODES = 2\n",
    "\n",
    "# Median delay of pact new block calls delay\n",
    "PACT_NEW_BLOCK_TIME = 0.1\n",
    "\n",
    "# Seed for the PRNG\n",
    "RNG_SEED = 17"
   ]
  },
  {
   "cell_type": "markdown",
   "metadata": {},
   "source": [
    "# Preliminaries"
   ]
  },
  {
   "cell_type": "markdown",
   "metadata": {},
   "source": [
    "## Random Number Generator"
   ]
  },
  {
   "cell_type": "code",
   "execution_count": 458,
   "metadata": {},
   "outputs": [],
   "source": [
    "prng = default_rng(RNG_SEED)\n",
    "prng_ = RandomState(RNG_SEED) # scipy uses the legacy generator"
   ]
  },
  {
   "cell_type": "markdown",
   "metadata": {},
   "source": [
    "## Graphs\n",
    "\n",
    "Chainweb graphs are undirected and regular graphs that are choosen to have low degree and low diameter. \n",
    "\n",
    "Each vertex of a Chainweb graph represents a chain and edges designate the dependencies between blocks on different chains. A block on chain $c$ at height $h$ has to reference each block of height $h-1$ on all chains that are adjacent to $c$. In addition a block at height $h$ also depends on the block at height $h-1$ on the same chain. We also say that a chain $c$ depends on a chan $d$ if $c$ is adjacent to $d$.\n",
    "\n",
    "Since Chainweb graphs are undirected, dependencies between chains are symmetric. Thus, In the following we encode dependencies using directed, symmetric directed graphs. We also make them reflexiv, by making each vertex adjacent to itself, because each each block depends on its parent on the same chain."
   ]
  },
  {
   "cell_type": "markdown",
   "metadata": {},
   "source": [
    "The $\\text{Peterson}$ graph is of minimal order (number of vertices) for degree 3 and diameter 2. "
   ]
  },
  {
   "cell_type": "code",
   "execution_count": 459,
   "metadata": {},
   "outputs": [],
   "source": [
    "def peterson():\n",
    "    graph = igraph.Graph(directed=True)\n",
    "    graph.add_vertices(10)\n",
    "    graph.add_edges(\n",
    "        [ (0, 0), (0, 2), (0, 3), (0, 5)\n",
    "        , (1, 1), (1, 3), (1, 4), (1, 6)\n",
    "        , (2, 2), (2, 0), (2, 4), (2, 7)\n",
    "        , (3, 3), (3, 0), (3, 1), (3, 8)\n",
    "        , (4, 4), (4, 1), (4, 2), (4, 9)\n",
    "        , (5, 5), (5, 0), (5, 6), (5, 9)\n",
    "        , (6, 6), (6, 1), (6, 5), (6, 7)\n",
    "        , (7, 7), (7, 2), (7, 6), (7, 8)\n",
    "        , (8, 8), (8, 3), (8, 7), (8, 9)\n",
    "        , (9, 9), (9, 4), (9, 5), (9, 8)\n",
    "        ]\n",
    "    )\n",
    "    return(graph)\n",
    "\n",
    "Peterson = peterson()"
   ]
  },
  {
   "cell_type": "markdown",
   "metadata": {},
   "source": [
    "The $\\text{Twenty}$ chain graph is of minimal order for degree 3 and diameter 3."
   ]
  },
  {
   "cell_type": "code",
   "execution_count": 460,
   "metadata": {},
   "outputs": [],
   "source": [
    "\n",
    "def twenty():\n",
    "    graph = igraph.Graph(directed=True)\n",
    "    graph.add_vertices(20)\n",
    "    graph.add_edges(\n",
    "        [ (0, 0), (0, 10), (0,15), (0,5)\n",
    "        , (1, 1), (1, 11), (1,16), (1,6)\n",
    "        , (2, 2), (2, 12), (2,17), (2,7)\n",
    "        , (3, 3), (3, 13), (3,18), (3,8)\n",
    "        , (4, 4), (4, 14), (4,19), (4,9)\n",
    "        , (5, 5), (5, 0), (5,7), (5,8)\n",
    "        , (6, 6), (6, 1), (6,8), (6,9)\n",
    "        , (7, 7), (7, 2), (7,5), (7,9)\n",
    "        , (8, 8), (8, 3), (8,5), (8,6)\n",
    "        , (9, 9), (9, 4), (9,6), (9,7)\n",
    "        , (10, 10), (10, 0), (10,11), (10,19)\n",
    "        , (11, 11), (11, 1), (11,10), (11,12)\n",
    "        , (12, 12), (12, 11), (12,13), (12,2)\n",
    "        , (13, 13), (13, 12), (13,14), (13,3)\n",
    "        , (14, 14), (14, 13), (14,15), (14,4)\n",
    "        , (15, 15), (15, 0), (15,14), (15,16)\n",
    "        , (16, 16), (16, 1), (16,15), (16,17)\n",
    "        , (17, 17), (17, 16), (17,18), (17,2)\n",
    "        , (18, 18), (18, 17), (18,19), (18,3)\n",
    "        , (19, 19), (19, 10), (19,18), (19,4)\n",
    "        ]\n",
    "    )\n",
    "    return (graph)\n",
    "\n",
    "Twenty = twenty()"
   ]
  },
  {
   "cell_type": "markdown",
   "metadata": {},
   "source": [
    "## Histogram\n",
    "\n",
    "Quick and Dirty Linear Histograms."
   ]
  },
  {
   "cell_type": "code",
   "execution_count": 461,
   "metadata": {},
   "outputs": [],
   "source": [
    "# TODO: there are probably some good libraries with support for this\n",
    "#\n",
    "class Histogram:\n",
    "\n",
    "    def __init__(self, binSize):\n",
    "        self.bins = {}\n",
    "        self.binSize = binSize\n",
    "\n",
    "    def sample(self, x):\n",
    "        i = math.floor(x / self.binSize)\n",
    "        if i in self.bins:\n",
    "            self.bins[i] += 1\n",
    "        else:\n",
    "            self.bins[i] = 1\n",
    "\n",
    "    def append(self, h):\n",
    "        if h.binSize == self.binSize:\n",
    "            for i in h.bins:\n",
    "                if i in self.bins:\n",
    "                    self.bins[i] += h.bins[i]\n",
    "                else:\n",
    "                    self.bins[i] = h.bins[i]\n",
    "        else:\n",
    "            throw(\"merging histograms with different bin sizes isn't yet implemented\")\n",
    "\n",
    "    def result(self):\n",
    "        imin = min(self.bins.keys())\n",
    "        imax = max(self.bins.keys())\n",
    "        a = [0] * (imax - imin + 1)\n",
    "        b = [self.binSize * k for k in range(imin, imax + 1)]\n",
    "        for i in range(imin, imax + 1):\n",
    "            if i in self.bins:\n",
    "                a[i - imin] = self.bins[i]\n",
    "        return a, b\n",
    "\n",
    "# TODO: implement more general WithStatistics class\n",
    "class HistogramSample:\n",
    "    def __init__(self, histogram, clock):\n",
    "        self.histogram = histogram\n",
    "        self.clock = clock\n",
    "    def __enter__(self):\n",
    "        self.start = self.clock.now\n",
    "        return self.start\n",
    "    def __exit__(self, type, value, traceback):\n",
    "        self.histogram.sample(self.clock.now - self.start)\n",
    "        return None # rethrow"
   ]
  },
  {
   "cell_type": "markdown",
   "metadata": {},
   "source": [
    "## Logger"
   ]
  },
  {
   "cell_type": "code",
   "execution_count": 462,
   "metadata": {},
   "outputs": [],
   "source": [
    "# Each object must have a method called \"label\"\n",
    "class Logger:\n",
    "    def __init__(self, env, label : str, tags : [str] = []):\n",
    "        self.label = label\n",
    "        self.tags = tags\n",
    "        self.env = env\n",
    "    \n",
    "    def logg(self, tag : str, msg : str):\n",
    "        if tag in self.tags:\n",
    "            print(\"[%d][%s] %s\" % (self.env.now, self.label, msg))"
   ]
  },
  {
   "cell_type": "markdown",
   "metadata": {},
   "source": [
    "# Simulation Model\n",
    "\n",
    "The goal of the simulation is to investigate the interaction of dependencies between chains and difficulty adjustement in the computation of a single chain. \n",
    "\n",
    "Block production (*mining*) on each chain is exponentially distributed.\n",
    "The mean mining time is called the $\\text{target}$. Mining on a chain can only proceed if all dependencies are available. I.e. a block on chain $c$ at height $h$ can be mined only after all blocks at height $h-1$ have been mined on $c$ and all chains adjacent to $c$. We say that a chain is *blocked* when it is done mining a block and while it is waiting for dependencies for the next block to become available. The overall *block time* is the time that it takes a chain to do a full cycle from starting to mine a block to starting to mine the next block, i.e. the time that mining takes, plus the time it is blocked, plus any potential additional latencies. \n",
    "\n",
    "POW blockchain algorithms are desigined such that the overall block time resembles an exponential distriution with a particular mean. The goal of *Difficulty Adjustment* is to adjust the target such that the observed mean matches the targeted mean. Single chain POW block chains can't be blocked and block times are exponentially distributed when the mining time dominates the other latencies. This can be achieved by choosing the a block time that is sufficiently large compared to network propgation and validation times. (For the purpose of this research, we are ignoring races that result in orphans.) In Chainweb chains can additionally be blocked and the distribution of the block time results from the the combination of the mining distribution, the distribution of times that chains are blocked, and the distribution of other latencies (network propagation and block validation).\n",
    "\n",
    "The model is designed to investigate how the choice of the difficulty adjustment algorithm affect the overall resulting block time distribution in Chainweb.\n",
    "\n",
    "We don't model consensus. Therefore the model doesn't include races between distributed nodes and orphan blocks. Because there are no conflicts only a single block for each chain and height is produced. Thus, blocks are uniquly identified by their chain and height. Also, each block is used exactly once by each adjacent chain. In other words a single linear chainweb is produced without any forks. \n",
    "\n",
    "Each vertex in the graph is labeled with a `Chain`, which is implemented as a `Process` that mines blocks on that chain. \n",
    "\n",
    "Dependencies between chain processes are implemented by passing messages with new blocks to adjacent chains. A chain can only produce a new block if all of its dependencies have been received. Each (directed) edge is assigned a communication channel. The source chain of an edge publishes new blocks to the channel. The target of the edge can receive a block ar specific height by awaiting that block on the channel.\n",
    "\n",
    "## Durations\n",
    "\n",
    "We use the generic term $\\text{latency}$ to summarize the duration of the validation of a block after it is discovered and before it is published, the network latency, and the validation after it is received. In case a block is discovered on the same node the network latency and one validation step are omitted. This is modeled by using a Bernoulli distribution to estimate the chance that a block is mined locally and a reduced latency is used.\n",
    "\n",
    "Pact new block validation is modeled separately because, depending on the mining framework that is used, it is applied after a chain becomes unblocked."
   ]
  },
  {
   "cell_type": "code",
   "execution_count": 542,
   "metadata": {},
   "outputs": [],
   "source": [
    "def gamma5(mean):\n",
    "    return prng.gamma(shape=5, scale=mean/5)\n",
    "\n",
    "# latency: validation + network + validation\n",
    "def latencyDelay():\n",
    "    is_local = prng.binomial(n=1, p = 1 / NUMBER_OF_MINING_NODES)\n",
    "    if is_local:\n",
    "        return gamma5(LOCAL_BLOCK_LATENCY)\n",
    "    else:\n",
    "        return gamma5(REMOTE_BLOCK_LATENCY)\n",
    "\n",
    "# Pact new block\n",
    "def pactDelay():\n",
    "    return gamma5(PACT_NEW_BLOCK_TIME)\n",
    "\n",
    "# Mining is exponentialy distributed with the target being the mean\n",
    "def miningDelay(target):\n",
    "    return prng.exponential(target)"
   ]
  },
  {
   "cell_type": "markdown",
   "metadata": {},
   "source": [
    "## Blocks"
   ]
  },
  {
   "cell_type": "code",
   "execution_count": 543,
   "metadata": {},
   "outputs": [],
   "source": [
    "class Block:\n",
    "    def __init__(self, chainId, height, time, epochTime, target):\n",
    "        self.chainId = chainId\n",
    "        self.height = height\n",
    "        self.time = time\n",
    "\n",
    "        # For Da\n",
    "        self.epochTime = epochTime\n",
    "        self.target = target\n",
    "\n",
    "        def __lt__(self, other):\n",
    "            self.height < other.height"
   ]
  },
  {
   "cell_type": "markdown",
   "metadata": {},
   "source": [
    "## Difficulty Adjustment Algorithms"
   ]
  },
  {
   "cell_type": "code",
   "execution_count": 544,
   "metadata": {},
   "outputs": [],
   "source": [
    "# DA that does local adjustments based on a globally\n",
    "# synchronized epoch.\n",
    "#\n",
    "# This is what is currently implemented on mainnet.\n",
    "#\n",
    "def chainDa(env, parent):\n",
    "    if parent == None:\n",
    "        return env.now, MEAN_BLOCK_TIME\n",
    "    if (parent.height + 1) % EPOCH == 0:\n",
    "        epochTime = parent.time\n",
    "        target = parent.target * (MEAN_BLOCK_TIME * EPOCH) / (parent.time - parent.epochTime)\n",
    "        # self.logg(\"da\", \"adjusted target from %f to %f\" % (parent.target, target))\n",
    "    else:\n",
    "        epochTime = parent.epochTime\n",
    "        target = parent.target\n",
    "    return epochTime, target\n",
    "\n",
    "# DA that is based on globally synchronized epoch. It performs\n",
    "# chainDa and takes the average for the chain along with all it's\n",
    "# adjacent chains.\n",
    "#\n",
    "def avgDa(env, parent, parents):\n",
    "    def avg(a): return sum(a) / len(a)\n",
    "\n",
    "    if parent == None:\n",
    "        return env.now, MEAN_BLOCK_TIME\n",
    "    epochTimes, targets = zip(*[self.chainDa(p) for p in list(parents).append(parent)])\n",
    "    epochTime = avg(epochTimes)\n",
    "    target = avg(targets)\n",
    "    self.logg(\"da\", \"adjusted target from %f to %f\" % (parent.target, target))\n",
    "    return epochTime, target"
   ]
  },
  {
   "cell_type": "markdown",
   "metadata": {},
   "source": [
    "## Mining"
   ]
  },
  {
   "cell_type": "code",
   "execution_count": 545,
   "metadata": {},
   "outputs": [],
   "source": [
    "class Mine(Process):\n",
    "    def __init__(self, env, chainId, parent, parents):\n",
    "        \n",
    "        self.env = env\n",
    "        self.parent = parent\n",
    "        self.parents = parents\n",
    "        self.chainId = chainId\n",
    "\n",
    "        super().__init__(env, self.run())\n",
    "\n",
    "\n",
    "    def run(self):\n",
    "        # adjust difficulty\n",
    "        epochTime, target = chainDa(self.env, self.parent)\n",
    "        # epochTime, target = self.avgDa(parent, parents)\n",
    "        \n",
    "        height = 0 if self.parent == None else self.parent.height + 1\n",
    "\n",
    "        # mine\n",
    "        newTime = self.env.now # current behavior\n",
    "        solveTime = miningDelay(target)\n",
    "        # self.logg(\"mine\", \"start mining with solve time %f\" % solveTime)\n",
    "        yield self.env.timeout(solveTime)\n",
    "\n",
    "        # create new block\n",
    "        # newTime = self.env.now # proposed behavior\n",
    "        block = Block(\n",
    "                chainId = self.chainId,\n",
    "                height = height,\n",
    "                time = newTime,\n",
    "                epochTime = epochTime,\n",
    "                target = target\n",
    "            )\n",
    "        # self.logg(\"mine\", 'created block %i with t=%f' % (block.height, block.time))\n",
    "        return block"
   ]
  },
  {
   "cell_type": "markdown",
   "metadata": {},
   "source": [
    "## Chain"
   ]
  },
  {
   "cell_type": "code",
   "execution_count": 546,
   "metadata": {},
   "outputs": [],
   "source": [
    "class AwaitParents(Process):\n",
    "    def __init__(self, env, graph, block : Block):\n",
    "    \n",
    "        def run():\n",
    "            # No parents for the genesis block\n",
    "            if block == None: return []\n",
    "    \n",
    "            chainId = block.chainId\n",
    "            edges = graph.vs[chainId].in_edges()\n",
    "            f = lambda b: b.height == block.height\n",
    "            results = yield AllOf(env, [ FilterStoreGet(e[\"link\"], f) for e in edges ])\n",
    "            parents = list(results.values())\n",
    "            return parents\n",
    "    \n",
    "        super().__init__(env, run())"
   ]
  },
  {
   "cell_type": "code",
   "execution_count": 547,
   "metadata": {},
   "outputs": [],
   "source": [
    "# asynchronously publish block to each adjacent chain\n",
    "#\n",
    "# TODO should this an process or is it fine for it to be instantaneous?\n",
    "#\n",
    "class Publish:\n",
    "    def __init__(self, env, graph, block):\n",
    "        self.env = env\n",
    "        self.graph = graph\n",
    "        self.block = block\n",
    "        self.chain = block.chainId\n",
    "        self.run()\n",
    "\n",
    "    def run(self):\n",
    "        for e in self.graph.vs[self.chain].out_edges():\n",
    "            self.env.process(self.publishToChain(e))\n",
    "        \n",
    "    def publishToChain(self,e):\n",
    "        # self.logg(\"net\", \"publish height %i to %i\" % (block.height, e.tuple[1]))\n",
    "\n",
    "        # apply latency delay\n",
    "        yield self.env.timeout(latencyDelay())\n",
    "\n",
    "        # Make block available for use on target chain\n",
    "        yield StorePut(e[\"link\"], self.block)"
   ]
  },
  {
   "cell_type": "code",
   "execution_count": 548,
   "metadata": {},
   "outputs": [],
   "source": [
    "class Chain:\n",
    "    def __init__(self, env, chainId : int, graph, logTags : [str] = []):\n",
    "\n",
    "        # Context\n",
    "        self.env = env\n",
    "        self.graph = graph\n",
    "        self.chain = chainId\n",
    "        self.logger = Logger(env, \"chain %d\" % chainId, logTags)\n",
    "        self.logg = self.logger.logg\n",
    "\n",
    "        # State\n",
    "        self.currentBlock = None\n",
    "\n",
    "        # Monitors and Statistics\n",
    "        self.isBlocked = False\n",
    "        self.blockedTime = 0\n",
    "        self.blockedHist = Histogram(1)\n",
    "        self.cycleHist = Histogram(1)\n",
    "        self.miningHist = Histogram(1)\n",
    "\n",
    "        # start chain process\n",
    "        self.action = env.process(self.run())\n",
    "        \n",
    "    def run(self):\n",
    "        t=None\n",
    "        while True:\n",
    "            with HistogramSample(self.cycleHist, self.env):\n",
    "\n",
    "                # await parents for new block\n",
    "                if self.currentBlock:\n",
    "                    self.logg(\"net\", \"await parents at height %d\" % self.currentBlock.height)\n",
    "                with HistogramSample(self.blockedHist, self.env):\n",
    "                    t0 = self.env.now\n",
    "                    self.isBlocked = True\n",
    "                    parents = yield AwaitParents(self.env, self.graph, self.currentBlock)\n",
    "                    self.isBlocked = False\n",
    "                    self.blockedTime += self.env.now - t0\n",
    "\n",
    "                # pact new block (TODO: do we call this here? There should\n",
    "                # no reason to wait for *all* adjacents for calling new block)\n",
    "                yield self.env.timeout(pactDelay())\n",
    "\n",
    "                # mine\n",
    "                if self.currentBlock:\n",
    "                    self.logg(\"mine\", \"mine and publish block at height %d\" % self.currentBlock.height)\n",
    "                with HistogramSample(self.miningHist, self.env):\n",
    "                    # block = yield self.env.process(self.mineBlock(parents))\n",
    "                    block = yield Mine(self.env, self.chain, self.currentBlock, parents)\n",
    "                    self.currentBlock = block\n",
    "                    \n",
    "                # publish block asynchronously\n",
    "                Publish(self.env, self.graph, block)"
   ]
  },
  {
   "cell_type": "markdown",
   "metadata": {},
   "source": [
    "## Chainweb"
   ]
  },
  {
   "cell_type": "code",
   "execution_count": 549,
   "metadata": {},
   "outputs": [],
   "source": [
    "class Chainweb:\n",
    "\n",
    "    def __init__(self, env, graph, logTags = []):\n",
    "        self.graph = graph\n",
    "        self.env = env\n",
    "\n",
    "        for i in self.graph.es:\n",
    "            i[\"link\"] = FilterStore(env)\n",
    "\n",
    "        for i in self.graph.vs:\n",
    "            print(\"chain %d\" % i.index)\n",
    "            chain = Chain(env, i.index, self.graph, logTags)\n",
    "            i[\"chain\"] = chain"
   ]
  },
  {
   "cell_type": "markdown",
   "metadata": {},
   "source": [
    "# Statistics"
   ]
  },
  {
   "cell_type": "code",
   "execution_count": 550,
   "metadata": {},
   "outputs": [],
   "source": [
    "# Monitor the value of variables at fixed intervals\n",
    "#\n",
    "def monitor(env, chainweb, n):\n",
    "    while True:\n",
    "        yield env.timeout(n)\n",
    "        blocked = [ i.isBlocked for i in chainweb.graph.vs[\"chain\"] ]\n",
    "        print(\"[%d][MONITOR] %d%% blocked\" % (env.now, 100 * sum(blocked) / len(blocked)))\n",
    "\n",
    "# Plot a histogram\n",
    "#\n",
    "def plotHist(hists, cols=1):\n",
    "    fig = plt.figure()\n",
    "    rows = math.floor(len(hists) / cols)\n",
    "    for i,(t,h) in enumerate(hists.items()):\n",
    "        p = fig.add_subplot(rows, cols, i+1)\n",
    "        y,x = h.result()\n",
    "        p.bar(x,y)\n",
    "        p.set_xlabel(\"time\")\n",
    "        p.set_ylabel(t)"
   ]
  },
  {
   "cell_type": "markdown",
   "metadata": {},
   "source": [
    "# Main"
   ]
  },
  {
   "cell_type": "code",
   "execution_count": 551,
   "metadata": {},
   "outputs": [],
   "source": [
    "def main(graph, n, logTags = []):\n",
    "    env = Environment()\n",
    "    cw = Chainweb(env, graph, logTags)\n",
    "    m = env.process(monitor(env, cw, n/10))\n",
    "    env.run(until=n)\n",
    "\n",
    "    print([i.blockedTime for i in cw.graph.vs[\"chain\"]])\n",
    "\n",
    "    blockedHist = Histogram(1)\n",
    "    for i in cw.graph.vs[\"chain\"]:\n",
    "        blockedHist.append(i.blockedHist)\n",
    "\n",
    "    cycleHist = Histogram(1)\n",
    "    for i in cw.graph.vs[\"chain\"]:\n",
    "        cycleHist.append(i.cycleHist)\n",
    "\n",
    "    miningHist = Histogram(1)\n",
    "    for i in cw.graph.vs[\"chain\"]:\n",
    "        miningHist.append(i.miningHist)\n",
    "\n",
    "    return cw, {\n",
    "            \"wait time\": blockedHist,\n",
    "            \"solve time\": miningHist,\n",
    "            \"total block time\": cycleHist\n",
    "        }"
   ]
  },
  {
   "cell_type": "code",
   "execution_count": 555,
   "metadata": {},
   "outputs": [
    {
     "name": "stdout",
     "output_type": "stream",
     "text": [
      "chain 0\n",
      "chain 1\n",
      "chain 2\n",
      "chain 3\n",
      "chain 4\n",
      "chain 5\n",
      "chain 6\n",
      "chain 7\n",
      "chain 8\n",
      "chain 9\n",
      "[100000][MONITOR] 90% blocked\n",
      "[200000][MONITOR] 70% blocked\n",
      "[300000][MONITOR] 90% blocked\n",
      "[400000][MONITOR] 80% blocked\n",
      "[500000][MONITOR] 40% blocked\n",
      "[600000][MONITOR] 60% blocked\n",
      "[700000][MONITOR] 60% blocked\n",
      "[800000][MONITOR] 60% blocked\n",
      "[900000][MONITOR] 20% blocked\n",
      "[602873.7751599242, 604738.9601150933, 595785.9757720004, 598316.5563703497, 594883.5276892186, 597589.6068728775, 596954.1470433655, 599222.2349714539, 601225.4500649328, 598182.5494685426]\n"
     ]
    }
   ],
   "source": [
    "cw, hists = main(Peterson, 1000000, [])"
   ]
  },
  {
   "cell_type": "code",
   "execution_count": 556,
   "metadata": {},
   "outputs": [],
   "source": [
    "# %matplotlib inline\n",
    "%matplotlib inline\n",
    "plt.rcParams[\"figure.figsize\"] = [16,12]"
   ]
  },
  {
   "cell_type": "code",
   "execution_count": 557,
   "metadata": {},
   "outputs": [
    {
     "data": {
      "image/png": "[encoded data removed]",
      "text/plain": [
       "<Figure size 1152x864 with 3 Axes>"
      ]
     },
     "metadata": {
      "needs_background": "light"
     },
     "output_type": "display_data"
    }
   ],
   "source": [
    "plotHist(hists)"
   ]
  },
  {
   "cell_type": "code",
   "execution_count": null,
   "metadata": {},
   "outputs": [],
   "source": []
  }
 ],
 "metadata": {
  "kernelspec": {
   "display_name": "Python 3",
   "language": "python",
   "name": "python3"
  },
  "language_info": {
   "codemirror_mode": {
    "name": "ipython",
    "version": 3
   },
   "file_extension": ".py",
   "mimetype": "text/x-python",
   "name": "python",
   "nbconvert_exporter": "python",
   "pygments_lexer": "ipython3",
   "version": "3.8.2"
  }
 },
 "nbformat": 4,
 "nbformat_minor": 4
}

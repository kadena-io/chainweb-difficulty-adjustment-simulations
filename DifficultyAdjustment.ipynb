{
 "cells": [
  {
   "cell_type": "code",
   "execution_count": 1,
   "metadata": {},
   "outputs": [],
   "source": [
    "# import sys\n",
    "# !{sys.executable} -m pip install python-igraph simpy numpy scipy matplotlib\n",
    "# !{sys.executable} -m pip install cpython\n",
    "# !{sys.executable} -m pip install runstats"
   ]
  },
  {
   "cell_type": "code",
   "execution_count": 2,
   "metadata": {},
   "outputs": [],
   "source": [
    "import igraph\n",
    "import math\n",
    "import matplotlib.pyplot as plt\n",
    "import numpy as np\n",
    "from numpy.random import default_rng, RandomState\n",
    "from scipy import stats\n",
    "from simpy import *\n",
    "from simpy.events import AnyOf, AllOf, Event\n",
    "from simpy.resources.store import *"
   ]
  },
  {
   "cell_type": "code",
   "execution_count": 3,
   "metadata": {},
   "outputs": [
    {
     "name": "stdout",
     "output_type": "stream",
     "text": [
      "Using matplotlib backend: MacOSX\n"
     ]
    }
   ],
   "source": [
    "%matplotlib"
   ]
  },
  {
   "cell_type": "markdown",
   "metadata": {},
   "source": [
    "# Configuration"
   ]
  },
  {
   "cell_type": "code",
   "execution_count": 4,
   "metadata": {},
   "outputs": [],
   "source": [
    "MEAN_BLOCK_TIME = 30\n",
    "EPOCH = 120\n",
    "\n",
    "# Median delay of pact new block calls delay\n",
    "PACT_NEW_BLOCK_TIME = 0.2\n",
    "\n",
    "NETWORK_LATENCY = 0.5\n",
    "\n",
    "# block latencies (validation + network + validation, including pact validation)\n",
    "NUMBER_OF_MINING_NODES = 3\n",
    "LOCAL_BLOCK_LATENCY = 2 * PACT_NEW_BLOCK_TIME\n",
    "REMOTE_BLOCK_LATENCY = 2 * PACT_NEW_BLOCK_TIME + NETWORK_LATENCY\n",
    "\n",
    "# Seed for the PRNG\n",
    "RNG_SEED = 17"
   ]
  },
  {
   "cell_type": "markdown",
   "metadata": {},
   "source": [
    "# Preliminaries"
   ]
  },
  {
   "cell_type": "markdown",
   "metadata": {},
   "source": [
    "## Random Number Generator"
   ]
  },
  {
   "cell_type": "code",
   "execution_count": 5,
   "metadata": {},
   "outputs": [],
   "source": [
    "prng = default_rng(RNG_SEED)\n",
    "prng_ = RandomState(RNG_SEED) # scipy uses the legacy generator"
   ]
  },
  {
   "cell_type": "markdown",
   "metadata": {},
   "source": [
    "## Graphs\n",
    "\n",
    "Chainweb graphs are undirected and regular graphs that are choosen to have low degree and low diameter. \n",
    "\n",
    "Each vertex of a Chainweb graph represents a chain and edges designate the dependencies between blocks on different chains. A block on chain $c$ at height $h$ has to reference each block of height $h-1$ on all chains that are adjacent to $c$. In addition a block at height $h$ also depends on the block at height $h-1$ on the same chain. We also say that a chain $c$ depends on a chan $d$ if $c$ is adjacent to $d$.\n",
    "\n",
    "Since Chainweb graphs are undirected, dependencies between chains are symmetric. Thus, In the following we encode dependencies using directed, symmetric directed graphs. We also make them reflexiv, by making each vertex adjacent to itself, because each each block depends on its parent on the same chain."
   ]
  },
  {
   "cell_type": "markdown",
   "metadata": {},
   "source": [
    "The $\\text{Peterson}$ graph is of minimal order (number of vertices) for degree 3 and diameter 2. "
   ]
  },
  {
   "cell_type": "code",
   "execution_count": 6,
   "metadata": {},
   "outputs": [],
   "source": [
    "def peterson():\n",
    "    graph = igraph.Graph(directed=True)\n",
    "    graph.add_vertices(10)\n",
    "    graph.add_edges(\n",
    "        [ (0, 0), (0, 2), (0, 3), (0, 5)\n",
    "        , (1, 1), (1, 3), (1, 4), (1, 6)\n",
    "        , (2, 2), (2, 0), (2, 4), (2, 7)\n",
    "        , (3, 3), (3, 0), (3, 1), (3, 8)\n",
    "        , (4, 4), (4, 1), (4, 2), (4, 9)\n",
    "        , (5, 5), (5, 0), (5, 6), (5, 9)\n",
    "        , (6, 6), (6, 1), (6, 5), (6, 7)\n",
    "        , (7, 7), (7, 2), (7, 6), (7, 8)\n",
    "        , (8, 8), (8, 3), (8, 7), (8, 9)\n",
    "        , (9, 9), (9, 4), (9, 5), (9, 8)\n",
    "        ]\n",
    "    )\n",
    "    return(graph)\n",
    "\n",
    "Peterson = peterson()"
   ]
  },
  {
   "cell_type": "markdown",
   "metadata": {},
   "source": [
    "The $\\text{Twenty}$ chain graph is of minimal order for degree 3 and diameter 3."
   ]
  },
  {
   "cell_type": "code",
   "execution_count": 7,
   "metadata": {},
   "outputs": [],
   "source": [
    "\n",
    "def twenty():\n",
    "    graph = igraph.Graph(directed=True)\n",
    "    graph.add_vertices(20)\n",
    "    graph.add_edges(\n",
    "        [ (0, 0), (0, 10), (0,15), (0,5)\n",
    "        , (1, 1), (1, 11), (1,16), (1,6)\n",
    "        , (2, 2), (2, 12), (2,17), (2,7)\n",
    "        , (3, 3), (3, 13), (3,18), (3,8)\n",
    "        , (4, 4), (4, 14), (4,19), (4,9)\n",
    "        , (5, 5), (5, 0), (5,7), (5,8)\n",
    "        , (6, 6), (6, 1), (6,8), (6,9)\n",
    "        , (7, 7), (7, 2), (7,5), (7,9)\n",
    "        , (8, 8), (8, 3), (8,5), (8,6)\n",
    "        , (9, 9), (9, 4), (9,6), (9,7)\n",
    "        , (10, 10), (10, 0), (10,11), (10,19)\n",
    "        , (11, 11), (11, 1), (11,10), (11,12)\n",
    "        , (12, 12), (12, 11), (12,13), (12,2)\n",
    "        , (13, 13), (13, 12), (13,14), (13,3)\n",
    "        , (14, 14), (14, 13), (14,15), (14,4)\n",
    "        , (15, 15), (15, 0), (15,14), (15,16)\n",
    "        , (16, 16), (16, 1), (16,15), (16,17)\n",
    "        , (17, 17), (17, 16), (17,18), (17,2)\n",
    "        , (18, 18), (18, 17), (18,19), (18,3)\n",
    "        , (19, 19), (19, 10), (19,18), (19,4)\n",
    "        ]\n",
    "    )\n",
    "    return (graph)\n",
    "\n",
    "Twenty = twenty()"
   ]
  },
  {
   "cell_type": "markdown",
   "metadata": {},
   "source": [
    "## Histogram\n",
    "\n",
    "Quick and Dirty Linear Histograms."
   ]
  },
  {
   "cell_type": "code",
   "execution_count": 8,
   "metadata": {},
   "outputs": [],
   "source": [
    "# TODO: there are probably some good libraries with support for this\n",
    "#\n",
    "class Histogram:\n",
    "\n",
    "    def __init__(self, binSize):\n",
    "        self.bins = {}\n",
    "        self.binSize = binSize\n",
    "\n",
    "    def sample(self, x):\n",
    "        i = math.floor(x / self.binSize)\n",
    "        if i in self.bins:\n",
    "            self.bins[i] += 1\n",
    "        else:\n",
    "            self.bins[i] = 1\n",
    "\n",
    "    def append(self, h):\n",
    "        if h.binSize == self.binSize:\n",
    "            for i in h.bins:\n",
    "                if i in self.bins:\n",
    "                    self.bins[i] += h.bins[i]\n",
    "                else:\n",
    "                    self.bins[i] = h.bins[i]\n",
    "        else:\n",
    "            throw(\"merging histograms with different bin sizes isn't yet implemented\")\n",
    "\n",
    "    def result(self):\n",
    "        imin = min(self.bins.keys())\n",
    "        imax = max(self.bins.keys())\n",
    "        a = [0] * (imax - imin + 1)\n",
    "        b = [self.binSize * k for k in range(imin, imax + 1)]\n",
    "        for i in range(imin, imax + 1):\n",
    "            if i in self.bins:\n",
    "                a[i - imin] = self.bins[i]\n",
    "        return a, b\n",
    "\n",
    "# TODO: implement more general WithStatistics class\n",
    "class HistogramSample:\n",
    "    def __init__(self, histogram, clock):\n",
    "        self.histogram = histogram\n",
    "        self.clock = clock\n",
    "    def __enter__(self):\n",
    "        self.start = self.clock.now\n",
    "        return self.start\n",
    "    def __exit__(self, type, value, traceback):\n",
    "        self.histogram.sample(self.clock.now - self.start)\n",
    "        return None # rethrow"
   ]
  },
  {
   "cell_type": "markdown",
   "metadata": {},
   "source": [
    "## Logger"
   ]
  },
  {
   "cell_type": "code",
   "execution_count": 9,
   "metadata": {},
   "outputs": [],
   "source": [
    "# Each object must have a method called \"label\"\n",
    "# FIXME: CURRENTLY BROKEN\n",
    "#\n",
    "class Logger:\n",
    "    def __init__(self, env, label : str, tags : [str] = []):\n",
    "        self.label = label\n",
    "        self.tags = tags\n",
    "        self.env = env\n",
    "    \n",
    "    def logg(self, tag : str, msg : str):\n",
    "        if tag in self.tags:\n",
    "            print(\"[%d][%s] %s\" % (self.env.now, self.label, msg))"
   ]
  },
  {
   "cell_type": "markdown",
   "metadata": {},
   "source": [
    "# Simulation Model\n",
    "\n",
    "The goal of the simulation is to investigate the interaction of dependencies between chains and difficulty adjustement in the computation of a single chain. \n",
    "\n",
    "Block production (*mining*) on each chain is exponentially distributed.\n",
    "The mean mining time is called the $\\text{target}$. Mining on a chain can only proceed if all dependencies are available. I.e. a block on chain $c$ at height $h$ can be mined only after all blocks at height $h-1$ have been mined on $c$ and all chains adjacent to $c$. We say that a chain is *blocked* when it is done mining a block and while it is waiting for dependencies for the next block to become available. The overall *block time* is the time that it takes a chain to do a full cycle from starting to mine a block to starting to mine the next block, i.e. the time that mining takes, plus the time it is blocked, plus any potential additional latencies. \n",
    "\n",
    "POW blockchain algorithms are desigined such that the overall block time resembles an exponential distriution with a particular mean. The goal of *Difficulty Adjustment* is to adjust the target such that the observed mean matches the targeted mean. Single chain POW block chains can't be blocked and block times are exponentially distributed when the mining time dominates the other latencies. This can be achieved by choosing the a block time that is sufficiently large compared to network propgation and validation times. (For the purpose of this research, we are ignoring races that result in orphans.) In Chainweb chains can additionally be blocked and the distribution of the block time results from the the combination of the mining distribution, the distribution of times that chains are blocked, and the distribution of other latencies (network propagation and block validation).\n",
    "\n",
    "The model is designed to investigate how the choice of the difficulty adjustment algorithm affect the overall resulting block time distribution in Chainweb.\n",
    "\n",
    "We don't model consensus. Therefore the model doesn't include races between distributed nodes and orphan blocks. Because there are no conflicts only a single block for each chain and height is produced. Thus, blocks are uniquly identified by their chain and height. Also, each block is used exactly once by each adjacent chain. In other words a single linear chainweb is produced without any forks. \n",
    "\n",
    "Each vertex in the graph is labeled with a `Chain`, which is implemented as a `Process` that mines blocks on that chain. \n",
    "\n",
    "Dependencies between chain processes are implemented by passing messages with new blocks to adjacent chains. A chain can only produce a new block if all of its dependencies have been received. Each (directed) edge is assigned a communication channel. The source chain of an edge publishes new blocks to the channel. The target of the edge can receive a block ar specific height by awaiting that block on the channel.\n",
    "\n",
    "## Durations\n",
    "\n",
    "We use the generic term $\\text{latency}$ to summarize the duration of the validation of a block after it is discovered and before it is published, the network latency, and the validation after it is received. In case a block is discovered on the same node the network latency and one validation step are omitted. This is modeled by using a Bernoulli distribution to estimate the chance that a block is mined locally and a reduced latency is used.\n",
    "\n",
    "Pact new block validation is modeled separately because, depending on the mining framework that is used, it is applied after a chain becomes unblocked."
   ]
  },
  {
   "cell_type": "code",
   "execution_count": 10,
   "metadata": {},
   "outputs": [],
   "source": [
    "def gamma5(mean):\n",
    "    return prng.gamma(shape=5, scale=mean/5)\n",
    "\n",
    "# latency: validation + network + validation\n",
    "def latencyDelay():\n",
    "    is_local = prng.binomial(n=1, p = 1 / NUMBER_OF_MINING_NODES)\n",
    "    if is_local:\n",
    "        return gamma5(LOCAL_BLOCK_LATENCY)\n",
    "    else:\n",
    "        return gamma5(REMOTE_BLOCK_LATENCY)\n",
    "\n",
    "# Pact new block\n",
    "def pactDelay():\n",
    "    return gamma5(PACT_NEW_BLOCK_TIME)\n",
    "\n",
    "# Mining is exponentialy distributed with the target being the mean\n",
    "def miningDelay(target):\n",
    "    return prng.exponential(target)"
   ]
  },
  {
   "cell_type": "markdown",
   "metadata": {},
   "source": [
    "## Blocks"
   ]
  },
  {
   "cell_type": "code",
   "execution_count": 11,
   "metadata": {},
   "outputs": [],
   "source": [
    "class Block:\n",
    "    def __init__(self, chainId, height, time, epochTime, target):\n",
    "        self.chainId = chainId\n",
    "        self.height = height\n",
    "        self.time = time\n",
    "\n",
    "        # For Da\n",
    "        self.epochTime = epochTime\n",
    "        self.target = target\n",
    "\n",
    "        def __lt__(self, other):\n",
    "            self.height < other.height"
   ]
  },
  {
   "cell_type": "markdown",
   "metadata": {},
   "source": [
    "## Difficulty Adjustment Algorithms"
   ]
  },
  {
   "cell_type": "code",
   "execution_count": 12,
   "metadata": {},
   "outputs": [],
   "source": [
    "# DA that does local adjustments based on a globally\n",
    "# synchronized epoch.\n",
    "#\n",
    "# This is what is currently implemented on mainnet.\n",
    "#\n",
    "def chainDa(env, parent):\n",
    "    if parent == None:\n",
    "        return env.now, MEAN_BLOCK_TIME\n",
    "    if (parent.height + 1) % EPOCH == 0:\n",
    "        epochTime = parent.time\n",
    "        target = parent.target * (MEAN_BLOCK_TIME * EPOCH) / (parent.time - parent.epochTime)\n",
    "        # self.logg(\"da\", \"adjusted target from %f to %f\" % (parent.target, target))\n",
    "    else:\n",
    "        epochTime = parent.epochTime\n",
    "        target = parent.target\n",
    "    return epochTime, target\n",
    "\n",
    "# DA that is based on globally synchronized epoch. It performs\n",
    "# chainDa and takes the average for the chain along with all it's\n",
    "# adjacent chains.\n",
    "#\n",
    "def avgDa(env, parent, parents):\n",
    "    def avg(a): return sum(a) / len(a)\n",
    "\n",
    "    if parent == None:\n",
    "        return env.now, MEAN_BLOCK_TIME\n",
    "    epochTimes, targets = zip(*[self.chainDa(p) for p in list(parents).append(parent)])\n",
    "    epochTime = avg(epochTimes)\n",
    "    target = avg(targets)\n",
    "    self.logg(\"da\", \"adjusted target from %f to %f\" % (parent.target, target))\n",
    "    return epochTime, target"
   ]
  },
  {
   "cell_type": "markdown",
   "metadata": {},
   "source": [
    "## Mining"
   ]
  },
  {
   "cell_type": "code",
   "execution_count": 13,
   "metadata": {},
   "outputs": [],
   "source": [
    "class Mine(Process):\n",
    "    def __init__(self, env, chainId, parent, parents):\n",
    "        \n",
    "        self.env = env\n",
    "        self.parent = parent\n",
    "        self.parents = parents\n",
    "        self.chainId = chainId\n",
    "\n",
    "        super().__init__(env, self.run())\n",
    "\n",
    "\n",
    "    def run(self):\n",
    "        # adjust difficulty\n",
    "        epochTime, target = chainDa(self.env, self.parent)\n",
    "        # epochTime, target = self.avgDa(parent, parents)\n",
    "        \n",
    "        height = 0 if self.parent == None else self.parent.height + 1\n",
    "\n",
    "        # mine\n",
    "        newTime = self.env.now # current behavior\n",
    "        solveTime = miningDelay(target)\n",
    "        # self.logg(\"mine\", \"start mining with solve time %f\" % solveTime)\n",
    "        yield self.env.timeout(solveTime)\n",
    "\n",
    "        # create new block\n",
    "        # newTime = self.env.now # proposed behavior\n",
    "        block = Block(\n",
    "                chainId = self.chainId,\n",
    "                height = height,\n",
    "                time = newTime,\n",
    "                epochTime = epochTime,\n",
    "                target = target\n",
    "            )\n",
    "        # self.logg(\"mine\", 'created block %i with t=%f' % (block.height, block.time))\n",
    "        return block"
   ]
  },
  {
   "cell_type": "markdown",
   "metadata": {},
   "source": [
    "## Chain"
   ]
  },
  {
   "cell_type": "code",
   "execution_count": 14,
   "metadata": {},
   "outputs": [],
   "source": [
    "class AwaitParents(Process):\n",
    "    def __init__(self, env, graph, block : Block):\n",
    "    \n",
    "        def run():\n",
    "            # No parents for the genesis block\n",
    "            if block == None: return []\n",
    "    \n",
    "            chainId = block.chainId\n",
    "            edges = graph.vs[chainId].in_edges()\n",
    "            f = lambda b: b.height == block.height\n",
    "            results = yield AllOf(env, [ FilterStoreGet(e[\"link\"], f) for e in edges ])\n",
    "            parents = list(results.values())\n",
    "            return parents\n",
    "    \n",
    "        super().__init__(env, run())"
   ]
  },
  {
   "cell_type": "code",
   "execution_count": 15,
   "metadata": {},
   "outputs": [],
   "source": [
    "# asynchronously publish block to each adjacent chain\n",
    "#\n",
    "# TODO should this an process or is it fine for it to be instantaneous?\n",
    "#\n",
    "class Publish:\n",
    "    def __init__(self, env, graph, block):\n",
    "        self.env = env\n",
    "        self.graph = graph\n",
    "        self.block = block\n",
    "        self.chain = block.chainId\n",
    "        self.run()\n",
    "\n",
    "    def run(self):\n",
    "        for e in self.graph.vs[self.chain].out_edges():\n",
    "            self.env.process(self.publishToChain(e))\n",
    "        \n",
    "    def publishToChain(self,e):\n",
    "        # self.logg(\"net\", \"publish height %i to %i\" % (block.height, e.tuple[1]))\n",
    "\n",
    "        # apply latency delay\n",
    "        yield self.env.timeout(latencyDelay())\n",
    "\n",
    "        # Make block available for use on target chain\n",
    "        yield StorePut(e[\"link\"], self.block)"
   ]
  },
  {
   "cell_type": "code",
   "execution_count": 16,
   "metadata": {},
   "outputs": [],
   "source": [
    "class Chain:\n",
    "    def __init__(self, env, chainId : int, graph, binSize : int = 1, logTags : [str] = []):\n",
    "\n",
    "        # Context\n",
    "        self.env = env\n",
    "        self.graph = graph\n",
    "        self.chain = chainId\n",
    "        self.logger = Logger(env, \"chain %d\" % chainId, logTags)\n",
    "        self.logg = self.logger.logg\n",
    "\n",
    "        # State\n",
    "        self.currentBlock = None\n",
    "\n",
    "        # Monitors and Statistics\n",
    "        self.isBlocked = False        \n",
    "        self.cycleTimes = []\n",
    "        self.blockedTimes = []\n",
    "        self.newBlockTimes = []\n",
    "        self.mineTimes = []\n",
    "        self.targets = []\n",
    "\n",
    "        # start chain process\n",
    "        self.action = env.process(self.run())\n",
    "        \n",
    "    def run(self):\n",
    "        t=None\n",
    "        while True:\n",
    "            t0 = self.env.now\n",
    "\n",
    "            # await parents for new block\n",
    "            if self.currentBlock:\n",
    "                self.logg(\"net\", \"await parents at height %d\" % self.currentBlock.height)\n",
    "            t1 = self.env.now\n",
    "            self.isBlocked = True\n",
    "            parents = yield AwaitParents(self.env, self.graph, self.currentBlock)\n",
    "            self.isBlocked = False\n",
    "            self.blockedTimes.append(self.env.now - t1)\n",
    "\n",
    "            # pact new block (TODO: do we call this here? There should\n",
    "            # no reason to wait for *all* adjacents for calling new block)\n",
    "            d = pactDelay()\n",
    "            yield self.env.timeout(d)\n",
    "            self.newBlockTimes.append(d)\n",
    "\n",
    "            # mine\n",
    "            if self.currentBlock:\n",
    "                self.logg(\"mine\", \"mine and publish block at height %d\" % self.currentBlock.height)\n",
    "            t1 = self.env.now\n",
    "            block = yield Mine(self.env, self.chain, self.currentBlock, parents)\n",
    "            self.mineTimes.append(self.env.now - t1)\n",
    "            self.currentBlock = block\n",
    "            self.targets.append(block.target)\n",
    "                    \n",
    "            # publish block asynchronously\n",
    "            Publish(self.env, self.graph, block)\n",
    "                \n",
    "            self.cycleTimes.append(self.env.now - t0)"
   ]
  },
  {
   "cell_type": "markdown",
   "metadata": {},
   "source": [
    "## Chainweb"
   ]
  },
  {
   "cell_type": "code",
   "execution_count": 17,
   "metadata": {},
   "outputs": [],
   "source": [
    "class Chainweb:\n",
    "\n",
    "    def __init__(self, env, graph, binSize : int = 1, logTags = []):\n",
    "        self.graph = graph\n",
    "        self.env = env\n",
    "        self.binSize = binSize\n",
    "\n",
    "        for i in self.graph.es:\n",
    "            i[\"link\"] = FilterStore(env)\n",
    "\n",
    "        for i in self.graph.vs:\n",
    "            print(\"chain %d\" % i.index)\n",
    "            chain = Chain(env, i.index, self.graph, binSize, logTags)\n",
    "            i[\"chain\"] = chain\n",
    "        \n",
    "        self.chains = self.graph.vs[\"chain\"]"
   ]
  },
  {
   "cell_type": "markdown",
   "metadata": {},
   "source": [
    "# Statistics"
   ]
  },
  {
   "cell_type": "code",
   "execution_count": 18,
   "metadata": {},
   "outputs": [],
   "source": [
    "# Monitor the value of variables at fixed intervals\n",
    "#\n",
    "def monitor(env, chainweb, n):\n",
    "    blocked = []\n",
    "    while True:\n",
    "        yield env.timeout(n)\n",
    "        cur = [ i.isBlocked for i in chainweb.graph.vs[\"chain\"] ]\n",
    "        blocked.append(sum(cur)/ len(cur))\n",
    "        print(\"[%d][MONITOR] %d%% blocked\" % (env.now, 100 * sum(cur) / len(cur)))"
   ]
  },
  {
   "cell_type": "markdown",
   "metadata": {},
   "source": [
    "# Main"
   ]
  },
  {
   "cell_type": "code",
   "execution_count": 19,
   "metadata": {},
   "outputs": [],
   "source": [
    "def main(graph, n, logTags = []):\n",
    "    binSize = 0.1\n",
    "    env = Environment()\n",
    "    cw = Chainweb(env, graph, binSize, logTags)\n",
    "    m = env.process(monitor(env, cw, n/10))\n",
    "    env.run(until=n)\n",
    "    return cw"
   ]
  },
  {
   "cell_type": "code",
   "execution_count": 20,
   "metadata": {},
   "outputs": [
    {
     "name": "stdout",
     "output_type": "stream",
     "text": [
      "chain 0\n",
      "chain 1\n",
      "chain 2\n",
      "chain 3\n",
      "chain 4\n",
      "chain 5\n",
      "chain 6\n",
      "chain 7\n",
      "chain 8\n",
      "chain 9\n",
      "[50000][MONITOR] 50% blocked\n",
      "[100000][MONITOR] 50% blocked\n",
      "[150000][MONITOR] 60% blocked\n",
      "[200000][MONITOR] 60% blocked\n",
      "[250000][MONITOR] 50% blocked\n",
      "[300000][MONITOR] 60% blocked\n",
      "[350000][MONITOR] 70% blocked\n",
      "[400000][MONITOR] 30% blocked\n",
      "[450000][MONITOR] 70% blocked\n"
     ]
    }
   ],
   "source": [
    "cw = main(Peterson, 500000, [])\n",
    "chains = cw.chains"
   ]
  },
  {
   "cell_type": "code",
   "execution_count": 21,
   "metadata": {},
   "outputs": [],
   "source": [
    "# %matplotlib inline\n",
    "%matplotlib inline\n",
    "plt.rcParams[\"figure.figsize\"] = [16,12]"
   ]
  },
  {
   "cell_type": "code",
   "execution_count": 22,
   "metadata": {},
   "outputs": [],
   "source": [
    "cs = {}\n",
    "cs[\"cycle times\"] = np.array([np.array(c.cycleTimes) for c in chains])\n",
    "cs[\"blocked times\"] = np.array([np.array(c.blockedTimes) for c in chains])\n",
    "cs[\"targets\"] = np.array([np.array(c.targets) for c in chains])\n",
    "cs[\"new block times\"] = np.array([np.array(c.newBlockTimes) for c in chains])\n",
    "cs[\"mine times\"] = np.array([np.array(c.mineTimes) for c in chains])"
   ]
  },
  {
   "cell_type": "code",
   "execution_count": 23,
   "metadata": {},
   "outputs": [],
   "source": [
    "def plotHist(chains, bins = 100, cols=1):\n",
    "    fig = plt.figure()\n",
    "    rows = math.floor(len(chains) / cols)\n",
    "    for i,(t,c) in enumerate(chains.items()):\n",
    "        p = fig.add_subplot(rows, cols, i+1)\n",
    "        data = np.concatenate(c)\n",
    "        p.hist(data, bins=bins)\n",
    "        p.set_xlabel(\"time\")\n",
    "        p.set_ylabel(t)"
   ]
  },
  {
   "cell_type": "code",
   "execution_count": 24,
   "metadata": {},
   "outputs": [
    {
     "data": {
      "image/png": "[encoded data removed]",
      "text/plain": [
       "<Figure size 1152x864 with 5 Axes>"
      ]
     },
     "metadata": {
      "needs_background": "light"
     },
     "output_type": "display_data"
    }
   ],
   "source": [
    "plotHist(cs, bins=500)"
   ]
  },
  {
   "cell_type": "code",
   "execution_count": 25,
   "metadata": {},
   "outputs": [
    {
     "data": {
      "image/png": "[encoded data removed]",
      "text/plain": [
       "<Figure size 1152x864 with 5 Axes>"
      ]
     },
     "metadata": {
      "needs_background": "light"
     },
     "output_type": "display_data"
    }
   ],
   "source": [
    "l = 10\n",
    "cols = 1\n",
    "fig = plt.figure()\n",
    "rows = math.floor(len(cs) / cols)\n",
    "x = np.arange(start=0, stop=50, step=0.1)\n",
    "for i,(t,c) in enumerate(cs.items()):\n",
    "    p = fig.add_subplot(rows, cols, i+1)\n",
    "    data = np.concatenate(c)\n",
    "    p.plot(x, stats.gaussian_kde(data)(x), label=t)\n",
    "    p.set_xlabel(\"time\")\n",
    "    p.set_ylabel(t)\n",
    "    \n",
    "# plt.plot(x, (stats.expon.pdf(x, scale=l)), label=\"targeted solve time\")\n",
    "# plt.plot(x, (stats.gaussian_kde(np.concatenate(cs[\"b\"])))(x), label=\"blocked time\")\n",
    "# plt.plot(x, (stats.expon.pdf(x, scale=l)) + (stats.gaussian_kde(np.concatenate(cs[\"b\"])))(x), label=\"sum\")\n",
    "# plt.legend()\n",
    "# plt.show()"
   ]
  },
  {
   "cell_type": "code",
   "execution_count": 26,
   "metadata": {},
   "outputs": [
    {
     "data": {
      "text/plain": [
       "[DescribeResult(nobs=16454, minmax=(0.0, 246.53911831208188), mean=18.089446475576636, variance=332.09285045996296, skewness=1.6080722460968182, kurtosis=5.10344415131712),\n",
       " DescribeResult(nobs=16454, minmax=(0.0, 152.32831143863132), mean=18.065662239243057, variance=328.6865933120802, skewness=1.5009124754943495, kurtosis=3.3023973817873307),\n",
       " DescribeResult(nobs=16454, minmax=(0.0, 159.14508661894706), mean=18.146088801415978, variance=326.860983366035, skewness=1.512562003492487, kurtosis=3.557815857055312),\n",
       " DescribeResult(nobs=16454, minmax=(0.0, 251.1312965694251), mean=18.15648329102947, variance=333.73131223707975, skewness=1.6419379874959874, kurtosis=5.40417149579174),\n",
       " DescribeResult(nobs=16454, minmax=(0.0, 221.5122510825022), mean=18.228344376348108, variance=332.1928557550416, skewness=1.5588130069208597, kurtosis=4.4911830845388305),\n",
       " DescribeResult(nobs=16454, minmax=(0.0, 294.86679209941394), mean=18.317194000154547, variance=337.83771795217444, skewness=1.6463253014069652, kurtosis=6.173678830831443),\n",
       " DescribeResult(nobs=16454, minmax=(0.0, 232.40810846228487), mean=18.25445183940339, variance=332.5561805676363, skewness=1.6363503516114866, kurtosis=5.438067083881638),\n",
       " DescribeResult(nobs=16455, minmax=(0.0, 221.3811075326048), mean=18.285924809385484, variance=332.49917996736644, skewness=1.4979541873943194, kurtosis=3.728563327830252),\n",
       " DescribeResult(nobs=16454, minmax=(0.0, 230.6921663075036), mean=18.24535241082728, variance=335.6108995762839, skewness=1.5761936279861326, kurtosis=4.268353790992302),\n",
       " DescribeResult(nobs=16454, minmax=(0.0, 174.59348555522502), mean=18.142176822775582, variance=326.89407006898904, skewness=1.486306464578326, kurtosis=3.4148551812186874)]"
      ]
     },
     "execution_count": 26,
     "metadata": {},
     "output_type": "execute_result"
    }
   ],
   "source": [
    "chains = cw.graph.vs[\"chain\"]\n",
    "[stats.describe(c.blockedTimes) for c in chains]"
   ]
  },
  {
   "cell_type": "code",
   "execution_count": null,
   "metadata": {},
   "outputs": [],
   "source": []
  }
 ],
 "metadata": {
  "kernelspec": {
   "display_name": "Python 3",
   "language": "python",
   "name": "python3"
  },
  "language_info": {
   "codemirror_mode": {
    "name": "ipython",
    "version": 3
   },
   "file_extension": ".py",
   "mimetype": "text/x-python",
   "name": "python",
   "nbconvert_exporter": "python",
   "pygments_lexer": "ipython3",
   "version": "3.8.2"
  }
 },
 "nbformat": 4,
 "nbformat_minor": 4
}
